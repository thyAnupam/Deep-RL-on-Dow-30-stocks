{
  "nbformat": 4,
  "nbformat_minor": 0,
  "metadata": {
    "colab": {
      "name": "Copy of DRL_multiple_stock_trading.ipynb",
      "provenance": [],
      "collapsed_sections": []
    },
    "kernelspec": {
      "display_name": "Python 3",
      "language": "python",
      "name": "python3"
    },
    "language_info": {
      "codemirror_mode": {
        "name": "ipython",
        "version": 3
      },
      "file_extension": ".py",
      "mimetype": "text/x-python",
      "name": "python",
      "nbconvert_exporter": "python",
      "pygments_lexer": "ipython3",
      "version": "3.6.5"
    }
  },
  "cells": [
    {
      "cell_type": "markdown",
      "metadata": {
        "id": "gXaoZs2lh1hi"
      },
      "source": [
        "# Deep Reinforcement Learning for Stock Trading: Multiple Stock Trading\n",
        "\n",
        "\n"
      ]
    },
    {
      "cell_type": "markdown",
      "metadata": {
        "id": "Uy5_PTmOh1hj"
      },
      "source": [
        "## Python Package Installation\n",
        "\n",
        "As a first step we check if the additional packages needed are present, if not install them. \n",
        "* Yahoo Finance API\n",
        "* pandas\n",
        "* numpy\n",
        "* matplotlib\n",
        "* stockstats\n",
        "* OpenAI gym\n",
        "* stable-baselines\n",
        "* tensorflow\n",
        "* pyfolio"
      ]
    },
    {
      "cell_type": "code",
      "metadata": {
        "colab": {
          "base_uri": "https://localhost:8080/",
          "height": 1000
        },
        "id": "oirvDTJ0h1hk",
        "outputId": "59ad4a34-bc45-4188-ba83-ac85761ed512"
      },
      "source": [
        "!pip install yfinance\n",
        "!pip install pandas\n",
        "!pip install numpy\n",
        "!pip install matplotlib\n",
        "!pip install stockstats\n",
        "!pip install gym\n",
        "!pip install stable-baselines[mpi]\n",
        "!pip install tensorflow==1.15.4\n",
        "!pip install git+https://github.com/quantopian/pyfolio\n"
      ],
      "execution_count": null,
      "outputs": [
        {
          "output_type": "stream",
          "text": [
            "Collecting yfinance\n",
            "  Downloading https://files.pythonhosted.org/packages/a7/ee/315752b9ef281ba83c62aa7ec2e2074f85223da6e7e74efb4d3e11c0f510/yfinance-0.1.59.tar.gz\n",
            "Requirement already satisfied: pandas>=0.24 in /usr/local/lib/python3.7/dist-packages (from yfinance) (1.1.5)\n",
            "Requirement already satisfied: numpy>=1.15 in /usr/local/lib/python3.7/dist-packages (from yfinance) (1.19.5)\n",
            "Requirement already satisfied: requests>=2.20 in /usr/local/lib/python3.7/dist-packages (from yfinance) (2.23.0)\n",
            "Requirement already satisfied: multitasking>=0.0.7 in /usr/local/lib/python3.7/dist-packages (from yfinance) (0.0.9)\n",
            "Collecting lxml>=4.5.1\n",
            "\u001b[?25l  Downloading https://files.pythonhosted.org/packages/30/c0/d0526314971fc661b083ab135747dc68446a3022686da8c16d25fcf6ef07/lxml-4.6.3-cp37-cp37m-manylinux2014_x86_64.whl (6.3MB)\n",
            "\u001b[K     |████████████████████████████████| 6.3MB 7.9MB/s \n",
            "\u001b[?25hRequirement already satisfied: pytz>=2017.2 in /usr/local/lib/python3.7/dist-packages (from pandas>=0.24->yfinance) (2018.9)\n",
            "Requirement already satisfied: python-dateutil>=2.7.3 in /usr/local/lib/python3.7/dist-packages (from pandas>=0.24->yfinance) (2.8.1)\n",
            "Requirement already satisfied: chardet<4,>=3.0.2 in /usr/local/lib/python3.7/dist-packages (from requests>=2.20->yfinance) (3.0.4)\n",
            "Requirement already satisfied: certifi>=2017.4.17 in /usr/local/lib/python3.7/dist-packages (from requests>=2.20->yfinance) (2020.12.5)\n",
            "Requirement already satisfied: urllib3!=1.25.0,!=1.25.1,<1.26,>=1.21.1 in /usr/local/lib/python3.7/dist-packages (from requests>=2.20->yfinance) (1.24.3)\n",
            "Requirement already satisfied: idna<3,>=2.5 in /usr/local/lib/python3.7/dist-packages (from requests>=2.20->yfinance) (2.10)\n",
            "Requirement already satisfied: six>=1.5 in /usr/local/lib/python3.7/dist-packages (from python-dateutil>=2.7.3->pandas>=0.24->yfinance) (1.15.0)\n",
            "Building wheels for collected packages: yfinance\n",
            "  Building wheel for yfinance (setup.py) ... \u001b[?25l\u001b[?25hdone\n",
            "  Created wheel for yfinance: filename=yfinance-0.1.59-py2.py3-none-any.whl size=23442 sha256=2ef8aa81ed61263fdc6527374a04de8d37b0183f0187d6f4d7f46857fa15019e\n",
            "  Stored in directory: /root/.cache/pip/wheels/f8/2a/0f/4b5a86e1d52e451757eb6bc17fd899629f0925c777741b6d04\n",
            "Successfully built yfinance\n",
            "Installing collected packages: lxml, yfinance\n",
            "  Found existing installation: lxml 4.2.6\n",
            "    Uninstalling lxml-4.2.6:\n",
            "      Successfully uninstalled lxml-4.2.6\n",
            "Successfully installed lxml-4.6.3 yfinance-0.1.59\n",
            "Requirement already satisfied: pandas in /usr/local/lib/python3.7/dist-packages (1.1.5)\n",
            "Requirement already satisfied: numpy>=1.15.4 in /usr/local/lib/python3.7/dist-packages (from pandas) (1.19.5)\n",
            "Requirement already satisfied: pytz>=2017.2 in /usr/local/lib/python3.7/dist-packages (from pandas) (2018.9)\n",
            "Requirement already satisfied: python-dateutil>=2.7.3 in /usr/local/lib/python3.7/dist-packages (from pandas) (2.8.1)\n",
            "Requirement already satisfied: six>=1.5 in /usr/local/lib/python3.7/dist-packages (from python-dateutil>=2.7.3->pandas) (1.15.0)\n",
            "Requirement already satisfied: numpy in /usr/local/lib/python3.7/dist-packages (1.19.5)\n",
            "Requirement already satisfied: matplotlib in /usr/local/lib/python3.7/dist-packages (3.2.2)\n",
            "Requirement already satisfied: pyparsing!=2.0.4,!=2.1.2,!=2.1.6,>=2.0.1 in /usr/local/lib/python3.7/dist-packages (from matplotlib) (2.4.7)\n",
            "Requirement already satisfied: python-dateutil>=2.1 in /usr/local/lib/python3.7/dist-packages (from matplotlib) (2.8.1)\n",
            "Requirement already satisfied: kiwisolver>=1.0.1 in /usr/local/lib/python3.7/dist-packages (from matplotlib) (1.3.1)\n",
            "Requirement already satisfied: numpy>=1.11 in /usr/local/lib/python3.7/dist-packages (from matplotlib) (1.19.5)\n",
            "Requirement already satisfied: cycler>=0.10 in /usr/local/lib/python3.7/dist-packages (from matplotlib) (0.10.0)\n",
            "Requirement already satisfied: six>=1.5 in /usr/local/lib/python3.7/dist-packages (from python-dateutil>=2.1->matplotlib) (1.15.0)\n",
            "Collecting stockstats\n",
            "  Downloading https://files.pythonhosted.org/packages/32/41/d3828c5bc0a262cb3112a4024108a3b019c183fa3b3078bff34bf25abf91/stockstats-0.3.2-py2.py3-none-any.whl\n",
            "Collecting int-date>=0.1.7\n",
            "  Downloading https://files.pythonhosted.org/packages/43/27/31803df15173ab341fe7548c14154b54227dfd8f630daa09a1c6e7db52f7/int_date-0.1.8-py2.py3-none-any.whl\n",
            "Requirement already satisfied: pandas>=0.18.1 in /usr/local/lib/python3.7/dist-packages (from stockstats) (1.1.5)\n",
            "Requirement already satisfied: numpy>=1.9.2 in /usr/local/lib/python3.7/dist-packages (from stockstats) (1.19.5)\n",
            "Requirement already satisfied: six>=1.9.0 in /usr/local/lib/python3.7/dist-packages (from int-date>=0.1.7->stockstats) (1.15.0)\n",
            "Requirement already satisfied: python-dateutil>=2.4.2 in /usr/local/lib/python3.7/dist-packages (from int-date>=0.1.7->stockstats) (2.8.1)\n",
            "Requirement already satisfied: pytz>=2017.2 in /usr/local/lib/python3.7/dist-packages (from pandas>=0.18.1->stockstats) (2018.9)\n",
            "Installing collected packages: int-date, stockstats\n",
            "Successfully installed int-date-0.1.8 stockstats-0.3.2\n",
            "Requirement already satisfied: gym in /usr/local/lib/python3.7/dist-packages (0.17.3)\n",
            "Requirement already satisfied: numpy>=1.10.4 in /usr/local/lib/python3.7/dist-packages (from gym) (1.19.5)\n",
            "Requirement already satisfied: scipy in /usr/local/lib/python3.7/dist-packages (from gym) (1.4.1)\n",
            "Requirement already satisfied: cloudpickle<1.7.0,>=1.2.0 in /usr/local/lib/python3.7/dist-packages (from gym) (1.3.0)\n",
            "Requirement already satisfied: pyglet<=1.5.0,>=1.4.0 in /usr/local/lib/python3.7/dist-packages (from gym) (1.5.0)\n",
            "Requirement already satisfied: future in /usr/local/lib/python3.7/dist-packages (from pyglet<=1.5.0,>=1.4.0->gym) (0.16.0)\n",
            "Collecting stable-baselines[mpi]\n",
            "\u001b[?25l  Downloading https://files.pythonhosted.org/packages/a2/c5/a60adb848f86219d19dd2d2bc4223b80e8d42802cc9e816955b6cfeffbdb/stable_baselines-2.10.2-py3-none-any.whl (240kB)\n",
            "\u001b[K     |████████████████████████████████| 245kB 5.4MB/s \n",
            "\u001b[?25hRequirement already satisfied: scipy in /usr/local/lib/python3.7/dist-packages (from stable-baselines[mpi]) (1.4.1)\n",
            "Requirement already satisfied: joblib in /usr/local/lib/python3.7/dist-packages (from stable-baselines[mpi]) (1.0.1)\n",
            "Requirement already satisfied: opencv-python in /usr/local/lib/python3.7/dist-packages (from stable-baselines[mpi]) (4.1.2.30)\n",
            "Requirement already satisfied: gym[atari,classic_control]>=0.11 in /usr/local/lib/python3.7/dist-packages (from stable-baselines[mpi]) (0.17.3)\n",
            "Requirement already satisfied: pandas in /usr/local/lib/python3.7/dist-packages (from stable-baselines[mpi]) (1.1.5)\n",
            "Requirement already satisfied: matplotlib in /usr/local/lib/python3.7/dist-packages (from stable-baselines[mpi]) (3.2.2)\n",
            "Requirement already satisfied: numpy in /usr/local/lib/python3.7/dist-packages (from stable-baselines[mpi]) (1.19.5)\n",
            "Requirement already satisfied: cloudpickle>=0.5.5 in /usr/local/lib/python3.7/dist-packages (from stable-baselines[mpi]) (1.3.0)\n",
            "Collecting mpi4py; extra == \"mpi\"\n",
            "\u001b[?25l  Downloading https://files.pythonhosted.org/packages/ec/8f/bbd8de5ba566dd77e408d8136e2bab7fdf2b97ce06cab830ba8b50a2f588/mpi4py-3.0.3.tar.gz (1.4MB)\n",
            "\u001b[K     |████████████████████████████████| 1.4MB 38.0MB/s \n",
            "\u001b[?25hRequirement already satisfied: pyglet<=1.5.0,>=1.4.0 in /usr/local/lib/python3.7/dist-packages (from gym[atari,classic_control]>=0.11->stable-baselines[mpi]) (1.5.0)\n",
            "Requirement already satisfied: atari-py~=0.2.0; extra == \"atari\" in /usr/local/lib/python3.7/dist-packages (from gym[atari,classic_control]>=0.11->stable-baselines[mpi]) (0.2.6)\n",
            "Requirement already satisfied: Pillow; extra == \"atari\" in /usr/local/lib/python3.7/dist-packages (from gym[atari,classic_control]>=0.11->stable-baselines[mpi]) (7.1.2)\n",
            "Requirement already satisfied: python-dateutil>=2.7.3 in /usr/local/lib/python3.7/dist-packages (from pandas->stable-baselines[mpi]) (2.8.1)\n",
            "Requirement already satisfied: pytz>=2017.2 in /usr/local/lib/python3.7/dist-packages (from pandas->stable-baselines[mpi]) (2018.9)\n",
            "Requirement already satisfied: kiwisolver>=1.0.1 in /usr/local/lib/python3.7/dist-packages (from matplotlib->stable-baselines[mpi]) (1.3.1)\n",
            "Requirement already satisfied: pyparsing!=2.0.4,!=2.1.2,!=2.1.6,>=2.0.1 in /usr/local/lib/python3.7/dist-packages (from matplotlib->stable-baselines[mpi]) (2.4.7)\n",
            "Requirement already satisfied: cycler>=0.10 in /usr/local/lib/python3.7/dist-packages (from matplotlib->stable-baselines[mpi]) (0.10.0)\n",
            "Requirement already satisfied: future in /usr/local/lib/python3.7/dist-packages (from pyglet<=1.5.0,>=1.4.0->gym[atari,classic_control]>=0.11->stable-baselines[mpi]) (0.16.0)\n",
            "Requirement already satisfied: six in /usr/local/lib/python3.7/dist-packages (from atari-py~=0.2.0; extra == \"atari\"->gym[atari,classic_control]>=0.11->stable-baselines[mpi]) (1.15.0)\n",
            "Building wheels for collected packages: mpi4py\n",
            "  Building wheel for mpi4py (setup.py) ... \u001b[?25l\u001b[?25hdone\n",
            "  Created wheel for mpi4py: filename=mpi4py-3.0.3-cp37-cp37m-linux_x86_64.whl size=2065210 sha256=06ef72ca170deeebb0bfac2a102e437a2bbe5d66029a9e84c268e9ecc9ed495f\n",
            "  Stored in directory: /root/.cache/pip/wheels/18/e0/86/2b713dd512199096012ceca61429e12b960888de59818871d6\n",
            "Successfully built mpi4py\n",
            "Installing collected packages: mpi4py, stable-baselines\n",
            "Successfully installed mpi4py-3.0.3 stable-baselines-2.10.2\n",
            "Collecting tensorflow==1.15.4\n",
            "\u001b[?25l  Downloading https://files.pythonhosted.org/packages/04/9f/18e031f52c46b4c63f6a6f064cd2dd85a2f730ca5dc44ef2f25375990dce/tensorflow-1.15.4-cp37-cp37m-manylinux2010_x86_64.whl (110.5MB)\n",
            "\u001b[K     |████████████████████████████████| 110.5MB 49kB/s \n",
            "\u001b[?25hRequirement already satisfied: absl-py>=0.7.0 in /usr/local/lib/python3.7/dist-packages (from tensorflow==1.15.4) (0.12.0)\n",
            "Collecting numpy<1.19.0,>=1.16.0\n",
            "\u001b[?25l  Downloading https://files.pythonhosted.org/packages/d6/c6/58e517e8b1fb192725cfa23c01c2e60e4e6699314ee9684a1c5f5c9b27e1/numpy-1.18.5-cp37-cp37m-manylinux1_x86_64.whl (20.1MB)\n",
            "\u001b[K     |████████████████████████████████| 20.1MB 1.3MB/s \n",
            "\u001b[?25hCollecting tensorboard<1.16.0,>=1.15.0\n",
            "\u001b[?25l  Downloading https://files.pythonhosted.org/packages/1e/e9/d3d747a97f7188f48aa5eda486907f3b345cd409f0a0850468ba867db246/tensorboard-1.15.0-py3-none-any.whl (3.8MB)\n",
            "\u001b[K     |████████████████████████████████| 3.8MB 35.4MB/s \n",
            "\u001b[?25hCollecting tensorflow-estimator==1.15.1\n",
            "\u001b[?25l  Downloading https://files.pythonhosted.org/packages/de/62/2ee9cd74c9fa2fa450877847ba560b260f5d0fb70ee0595203082dafcc9d/tensorflow_estimator-1.15.1-py2.py3-none-any.whl (503kB)\n",
            "\u001b[K     |████████████████████████████████| 512kB 38.3MB/s \n",
            "\u001b[?25hRequirement already satisfied: grpcio>=1.8.6 in /usr/local/lib/python3.7/dist-packages (from tensorflow==1.15.4) (1.32.0)\n",
            "Requirement already satisfied: opt-einsum>=2.3.2 in /usr/local/lib/python3.7/dist-packages (from tensorflow==1.15.4) (3.3.0)\n",
            "Requirement already satisfied: keras-preprocessing>=1.0.5 in /usr/local/lib/python3.7/dist-packages (from tensorflow==1.15.4) (1.1.2)\n",
            "Requirement already satisfied: astor>=0.6.0 in /usr/local/lib/python3.7/dist-packages (from tensorflow==1.15.4) (0.8.1)\n",
            "Requirement already satisfied: google-pasta>=0.1.6 in /usr/local/lib/python3.7/dist-packages (from tensorflow==1.15.4) (0.2.0)\n",
            "Requirement already satisfied: wrapt>=1.11.1 in /usr/local/lib/python3.7/dist-packages (from tensorflow==1.15.4) (1.12.1)\n",
            "Collecting keras-applications>=1.0.8\n",
            "\u001b[?25l  Downloading https://files.pythonhosted.org/packages/71/e3/19762fdfc62877ae9102edf6342d71b28fbfd9dea3d2f96a882ce099b03f/Keras_Applications-1.0.8-py3-none-any.whl (50kB)\n",
            "\u001b[K     |████████████████████████████████| 51kB 6.4MB/s \n",
            "\u001b[?25hRequirement already satisfied: six>=1.10.0 in /usr/local/lib/python3.7/dist-packages (from tensorflow==1.15.4) (1.15.0)\n",
            "Requirement already satisfied: wheel>=0.26; python_version >= \"3\" in /usr/local/lib/python3.7/dist-packages (from tensorflow==1.15.4) (0.36.2)\n",
            "Collecting gast==0.2.2\n",
            "  Downloading https://files.pythonhosted.org/packages/4e/35/11749bf99b2d4e3cceb4d55ca22590b0d7c2c62b9de38ac4a4a7f4687421/gast-0.2.2.tar.gz\n",
            "Requirement already satisfied: protobuf>=3.6.1 in /usr/local/lib/python3.7/dist-packages (from tensorflow==1.15.4) (3.12.4)\n",
            "Requirement already satisfied: termcolor>=1.1.0 in /usr/local/lib/python3.7/dist-packages (from tensorflow==1.15.4) (1.1.0)\n",
            "Requirement already satisfied: markdown>=2.6.8 in /usr/local/lib/python3.7/dist-packages (from tensorboard<1.16.0,>=1.15.0->tensorflow==1.15.4) (3.3.4)\n",
            "Requirement already satisfied: werkzeug>=0.11.15 in /usr/local/lib/python3.7/dist-packages (from tensorboard<1.16.0,>=1.15.0->tensorflow==1.15.4) (1.0.1)\n",
            "Requirement already satisfied: setuptools>=41.0.0 in /usr/local/lib/python3.7/dist-packages (from tensorboard<1.16.0,>=1.15.0->tensorflow==1.15.4) (56.0.0)\n",
            "Requirement already satisfied: h5py in /usr/local/lib/python3.7/dist-packages (from keras-applications>=1.0.8->tensorflow==1.15.4) (2.10.0)\n",
            "Requirement already satisfied: importlib-metadata; python_version < \"3.8\" in /usr/local/lib/python3.7/dist-packages (from markdown>=2.6.8->tensorboard<1.16.0,>=1.15.0->tensorflow==1.15.4) (3.10.1)\n",
            "Requirement already satisfied: zipp>=0.5 in /usr/local/lib/python3.7/dist-packages (from importlib-metadata; python_version < \"3.8\"->markdown>=2.6.8->tensorboard<1.16.0,>=1.15.0->tensorflow==1.15.4) (3.4.1)\n",
            "Requirement already satisfied: typing-extensions>=3.6.4; python_version < \"3.8\" in /usr/local/lib/python3.7/dist-packages (from importlib-metadata; python_version < \"3.8\"->markdown>=2.6.8->tensorboard<1.16.0,>=1.15.0->tensorflow==1.15.4) (3.7.4.3)\n",
            "Building wheels for collected packages: gast\n",
            "  Building wheel for gast (setup.py) ... \u001b[?25l\u001b[?25hdone\n",
            "  Created wheel for gast: filename=gast-0.2.2-cp37-none-any.whl size=7540 sha256=8035a7881cfe380ee81ced37c77f1543b3c7702308994d80d8cf7d8afed937a1\n",
            "  Stored in directory: /root/.cache/pip/wheels/5c/2e/7e/a1d4d4fcebe6c381f378ce7743a3ced3699feb89bcfbdadadd\n",
            "Successfully built gast\n",
            "\u001b[31mERROR: tensorflow-probability 0.12.1 has requirement gast>=0.3.2, but you'll have gast 0.2.2 which is incompatible.\u001b[0m\n",
            "\u001b[31mERROR: datascience 0.10.6 has requirement folium==0.2.1, but you'll have folium 0.8.3 which is incompatible.\u001b[0m\n",
            "\u001b[31mERROR: albumentations 0.1.12 has requirement imgaug<0.2.7,>=0.2.5, but you'll have imgaug 0.2.9 which is incompatible.\u001b[0m\n",
            "Installing collected packages: numpy, tensorboard, tensorflow-estimator, keras-applications, gast, tensorflow\n",
            "  Found existing installation: numpy 1.19.5\n",
            "    Uninstalling numpy-1.19.5:\n",
            "      Successfully uninstalled numpy-1.19.5\n",
            "  Found existing installation: tensorboard 2.4.1\n",
            "    Uninstalling tensorboard-2.4.1:\n",
            "      Successfully uninstalled tensorboard-2.4.1\n",
            "  Found existing installation: tensorflow-estimator 2.4.0\n",
            "    Uninstalling tensorflow-estimator-2.4.0:\n",
            "      Successfully uninstalled tensorflow-estimator-2.4.0\n",
            "  Found existing installation: gast 0.3.3\n",
            "    Uninstalling gast-0.3.3:\n",
            "      Successfully uninstalled gast-0.3.3\n",
            "  Found existing installation: tensorflow 2.4.1\n",
            "    Uninstalling tensorflow-2.4.1:\n",
            "      Successfully uninstalled tensorflow-2.4.1\n",
            "Successfully installed gast-0.2.2 keras-applications-1.0.8 numpy-1.18.5 tensorboard-1.15.0 tensorflow-1.15.4 tensorflow-estimator-1.15.1\n"
          ],
          "name": "stdout"
        },
        {
          "output_type": "display_data",
          "data": {
            "application/vnd.colab-display-data+json": {
              "pip_warning": {
                "packages": [
                  "numpy"
                ]
              }
            }
          },
          "metadata": {
            "tags": []
          }
        },
        {
          "output_type": "stream",
          "text": [
            "Collecting git+https://github.com/quantopian/pyfolio\n",
            "  Cloning https://github.com/quantopian/pyfolio to /tmp/pip-req-build-wuzb7od1\n",
            "  Running command git clone -q https://github.com/quantopian/pyfolio /tmp/pip-req-build-wuzb7od1\n",
            "Requirement already satisfied: ipython>=3.2.3 in /usr/local/lib/python3.7/dist-packages (from pyfolio==0.9.2+75.g4b901f6) (5.5.0)\n",
            "Requirement already satisfied: matplotlib>=1.4.0 in /usr/local/lib/python3.7/dist-packages (from pyfolio==0.9.2+75.g4b901f6) (3.2.2)\n",
            "Requirement already satisfied: numpy>=1.11.1 in /usr/local/lib/python3.7/dist-packages (from pyfolio==0.9.2+75.g4b901f6) (1.18.5)\n",
            "Requirement already satisfied: pandas>=0.18.1 in /usr/local/lib/python3.7/dist-packages (from pyfolio==0.9.2+75.g4b901f6) (1.1.5)\n",
            "Requirement already satisfied: pytz>=2014.10 in /usr/local/lib/python3.7/dist-packages (from pyfolio==0.9.2+75.g4b901f6) (2018.9)\n",
            "Requirement already satisfied: scipy>=0.14.0 in /usr/local/lib/python3.7/dist-packages (from pyfolio==0.9.2+75.g4b901f6) (1.4.1)\n",
            "Requirement already satisfied: scikit-learn>=0.16.1 in /usr/local/lib/python3.7/dist-packages (from pyfolio==0.9.2+75.g4b901f6) (0.22.2.post1)\n",
            "Requirement already satisfied: seaborn>=0.7.1 in /usr/local/lib/python3.7/dist-packages (from pyfolio==0.9.2+75.g4b901f6) (0.11.1)\n",
            "Collecting empyrical>=0.5.0\n",
            "\u001b[?25l  Downloading https://files.pythonhosted.org/packages/74/43/1b997c21411c6ab7c96dc034e160198272c7a785aeea7654c9bcf98bec83/empyrical-0.5.5.tar.gz (52kB)\n",
            "\u001b[K     |████████████████████████████████| 61kB 3.6MB/s \n",
            "\u001b[?25hRequirement already satisfied: prompt-toolkit<2.0.0,>=1.0.4 in /usr/local/lib/python3.7/dist-packages (from ipython>=3.2.3->pyfolio==0.9.2+75.g4b901f6) (1.0.18)\n",
            "Requirement already satisfied: pexpect; sys_platform != \"win32\" in /usr/local/lib/python3.7/dist-packages (from ipython>=3.2.3->pyfolio==0.9.2+75.g4b901f6) (4.8.0)\n",
            "Requirement already satisfied: decorator in /usr/local/lib/python3.7/dist-packages (from ipython>=3.2.3->pyfolio==0.9.2+75.g4b901f6) (4.4.2)\n",
            "Requirement already satisfied: pickleshare in /usr/local/lib/python3.7/dist-packages (from ipython>=3.2.3->pyfolio==0.9.2+75.g4b901f6) (0.7.5)\n",
            "Requirement already satisfied: simplegeneric>0.8 in /usr/local/lib/python3.7/dist-packages (from ipython>=3.2.3->pyfolio==0.9.2+75.g4b901f6) (0.8.1)\n",
            "Requirement already satisfied: setuptools>=18.5 in /usr/local/lib/python3.7/dist-packages (from ipython>=3.2.3->pyfolio==0.9.2+75.g4b901f6) (56.0.0)\n",
            "Requirement already satisfied: traitlets>=4.2 in /usr/local/lib/python3.7/dist-packages (from ipython>=3.2.3->pyfolio==0.9.2+75.g4b901f6) (5.0.5)\n",
            "Requirement already satisfied: pygments in /usr/local/lib/python3.7/dist-packages (from ipython>=3.2.3->pyfolio==0.9.2+75.g4b901f6) (2.6.1)\n",
            "Requirement already satisfied: pyparsing!=2.0.4,!=2.1.2,!=2.1.6,>=2.0.1 in /usr/local/lib/python3.7/dist-packages (from matplotlib>=1.4.0->pyfolio==0.9.2+75.g4b901f6) (2.4.7)\n",
            "Requirement already satisfied: kiwisolver>=1.0.1 in /usr/local/lib/python3.7/dist-packages (from matplotlib>=1.4.0->pyfolio==0.9.2+75.g4b901f6) (1.3.1)\n",
            "Requirement already satisfied: cycler>=0.10 in /usr/local/lib/python3.7/dist-packages (from matplotlib>=1.4.0->pyfolio==0.9.2+75.g4b901f6) (0.10.0)\n",
            "Requirement already satisfied: python-dateutil>=2.1 in /usr/local/lib/python3.7/dist-packages (from matplotlib>=1.4.0->pyfolio==0.9.2+75.g4b901f6) (2.8.1)\n",
            "Requirement already satisfied: joblib>=0.11 in /usr/local/lib/python3.7/dist-packages (from scikit-learn>=0.16.1->pyfolio==0.9.2+75.g4b901f6) (1.0.1)\n",
            "Requirement already satisfied: pandas-datareader>=0.2 in /usr/local/lib/python3.7/dist-packages (from empyrical>=0.5.0->pyfolio==0.9.2+75.g4b901f6) (0.9.0)\n",
            "Requirement already satisfied: six>=1.9.0 in /usr/local/lib/python3.7/dist-packages (from prompt-toolkit<2.0.0,>=1.0.4->ipython>=3.2.3->pyfolio==0.9.2+75.g4b901f6) (1.15.0)\n",
            "Requirement already satisfied: wcwidth in /usr/local/lib/python3.7/dist-packages (from prompt-toolkit<2.0.0,>=1.0.4->ipython>=3.2.3->pyfolio==0.9.2+75.g4b901f6) (0.2.5)\n",
            "Requirement already satisfied: ptyprocess>=0.5 in /usr/local/lib/python3.7/dist-packages (from pexpect; sys_platform != \"win32\"->ipython>=3.2.3->pyfolio==0.9.2+75.g4b901f6) (0.7.0)\n",
            "Requirement already satisfied: ipython-genutils in /usr/local/lib/python3.7/dist-packages (from traitlets>=4.2->ipython>=3.2.3->pyfolio==0.9.2+75.g4b901f6) (0.2.0)\n",
            "Requirement already satisfied: lxml in /usr/local/lib/python3.7/dist-packages (from pandas-datareader>=0.2->empyrical>=0.5.0->pyfolio==0.9.2+75.g4b901f6) (4.6.3)\n",
            "Requirement already satisfied: requests>=2.19.0 in /usr/local/lib/python3.7/dist-packages (from pandas-datareader>=0.2->empyrical>=0.5.0->pyfolio==0.9.2+75.g4b901f6) (2.23.0)\n",
            "Requirement already satisfied: idna<3,>=2.5 in /usr/local/lib/python3.7/dist-packages (from requests>=2.19.0->pandas-datareader>=0.2->empyrical>=0.5.0->pyfolio==0.9.2+75.g4b901f6) (2.10)\n",
            "Requirement already satisfied: certifi>=2017.4.17 in /usr/local/lib/python3.7/dist-packages (from requests>=2.19.0->pandas-datareader>=0.2->empyrical>=0.5.0->pyfolio==0.9.2+75.g4b901f6) (2020.12.5)\n",
            "Requirement already satisfied: urllib3!=1.25.0,!=1.25.1,<1.26,>=1.21.1 in /usr/local/lib/python3.7/dist-packages (from requests>=2.19.0->pandas-datareader>=0.2->empyrical>=0.5.0->pyfolio==0.9.2+75.g4b901f6) (1.24.3)\n",
            "Requirement already satisfied: chardet<4,>=3.0.2 in /usr/local/lib/python3.7/dist-packages (from requests>=2.19.0->pandas-datareader>=0.2->empyrical>=0.5.0->pyfolio==0.9.2+75.g4b901f6) (3.0.4)\n",
            "Building wheels for collected packages: pyfolio, empyrical\n",
            "  Building wheel for pyfolio (setup.py) ... \u001b[?25l\u001b[?25hdone\n",
            "  Created wheel for pyfolio: filename=pyfolio-0.9.2+75.g4b901f6-cp37-none-any.whl size=75764 sha256=0edaa6fc16f9f2a4f67d91c56f1fe59d597255672e81c5e12fe541923f76c01e\n",
            "  Stored in directory: /tmp/pip-ephem-wheel-cache-powg65nt/wheels/62/7d/a7/3e462442ba7d63c35414176627c886340521dc3dbc0893ce9f\n",
            "  Building wheel for empyrical (setup.py) ... \u001b[?25l\u001b[?25hdone\n",
            "  Created wheel for empyrical: filename=empyrical-0.5.5-cp37-none-any.whl size=39764 sha256=73cd79a60ab9f38452b483986bb564bdaad3456f22257dbf6be2e1aae854cf6f\n",
            "  Stored in directory: /root/.cache/pip/wheels/ea/b2/c8/6769d8444d2f2e608fae2641833110668d0ffd1abeb2e9f3fc\n",
            "Successfully built pyfolio empyrical\n",
            "Installing collected packages: empyrical, pyfolio\n",
            "Successfully installed empyrical-0.5.5 pyfolio-0.9.2+75.g4b901f6\n"
          ],
          "name": "stdout"
        }
      ]
    },
    {
      "cell_type": "markdown",
      "metadata": {
        "id": "nGv01K8Sh1hn"
      },
      "source": [
        "## Import packages"
      ]
    },
    {
      "cell_type": "code",
      "metadata": {
        "id": "lPqeTTwoh1hn"
      },
      "source": [
        "import pandas as pd\n",
        "import numpy as np\n",
        "import matplotlib\n",
        "import matplotlib.pyplot as plt\n",
        "matplotlib.use('Agg')\n",
        "\n",
        "import yfinance as yf\n",
        "from stockstats import StockDataFrame as Sdf\n",
        "import pyfolio\n",
        "\n",
        "import gym\n",
        "from stable_baselines import PPO2, DDPG, A2C, ACKTR, TD3, TRPO\n",
        "from stable_baselines import DDPG\n",
        "from stable_baselines import A2C\n",
        "from stable_baselines import SAC\n",
        "from stable_baselines.common.vec_env import DummyVecEnv\n",
        "from stable_baselines.common.policies import MlpPolicy\n",
        "from stable_baselines.common.noise import NormalActionNoise, OrnsteinUhlenbeckActionNoise, AdaptiveParamNoiseSpec\n"
      ],
      "execution_count": null,
      "outputs": []
    },
    {
      "cell_type": "markdown",
      "metadata": {
        "id": "A289rQWMh1hq"
      },
      "source": [
        "# Part 1: Download Data\n",
        "Yahoo Finance is a website that provides stock data, financial news, financial reports, etc. All the data provided by Yahoo Finance is free."
      ]
    },
    {
      "cell_type": "code",
      "metadata": {
        "id": "X2MNEehAh1hq"
      },
      "source": [
        "# Dow 30 constituents at 2021/05/01\n",
        "dow_30_ticker = ['AAPL','MSFT','JPM','V','RTX','PG','GS','NKE','DIS','AXP',\n",
        "                  'HD','INTC','WMT','IBM','MRK','UNH','KO','CAT','TRV','JNJ',\n",
        "                  'CVX','MCD','VZ','CSCO','XOM','BA','MMM','PFE','WBA','DD']"
      ],
      "execution_count": null,
      "outputs": []
    },
    {
      "cell_type": "code",
      "metadata": {
        "colab": {
          "base_uri": "https://localhost:8080/"
        },
        "id": "TZxcKiCuh1hv",
        "outputId": "9a52e8f6-c96e-4bf5-e8d9-e7fbced1b7be"
      },
      "source": [
        "# Download and save the data in a pandas DataFrame:\n",
        "dow_30 = pd.DataFrame()\n",
        "for tic in dow_30_ticker:\n",
        "    data_df = yf.download(tic, start=\"2009-01-01\", end=\"2020-10-23\")\n",
        "    data_df['tic'] = tic\n",
        "    dow_30=dow_30.append(data_df)"
      ],
      "execution_count": null,
      "outputs": [
        {
          "output_type": "stream",
          "text": [
            "[*********************100%***********************]  1 of 1 completed\n",
            "[*********************100%***********************]  1 of 1 completed\n",
            "[*********************100%***********************]  1 of 1 completed\n",
            "[*********************100%***********************]  1 of 1 completed\n",
            "[*********************100%***********************]  1 of 1 completed\n",
            "[*********************100%***********************]  1 of 1 completed\n",
            "[*********************100%***********************]  1 of 1 completed\n",
            "[*********************100%***********************]  1 of 1 completed\n",
            "[*********************100%***********************]  1 of 1 completed\n",
            "[*********************100%***********************]  1 of 1 completed\n",
            "[*********************100%***********************]  1 of 1 completed\n",
            "[*********************100%***********************]  1 of 1 completed\n",
            "[*********************100%***********************]  1 of 1 completed\n",
            "[*********************100%***********************]  1 of 1 completed\n",
            "[*********************100%***********************]  1 of 1 completed\n",
            "[*********************100%***********************]  1 of 1 completed\n",
            "[*********************100%***********************]  1 of 1 completed\n",
            "[*********************100%***********************]  1 of 1 completed\n",
            "[*********************100%***********************]  1 of 1 completed\n",
            "[*********************100%***********************]  1 of 1 completed\n",
            "[*********************100%***********************]  1 of 1 completed\n",
            "[*********************100%***********************]  1 of 1 completed\n",
            "[*********************100%***********************]  1 of 1 completed\n",
            "[*********************100%***********************]  1 of 1 completed\n",
            "[*********************100%***********************]  1 of 1 completed\n",
            "[*********************100%***********************]  1 of 1 completed\n",
            "[*********************100%***********************]  1 of 1 completed\n",
            "[*********************100%***********************]  1 of 1 completed\n",
            "[*********************100%***********************]  1 of 1 completed\n",
            "[*********************100%***********************]  1 of 1 completed\n"
          ],
          "name": "stdout"
        }
      ]
    },
    {
      "cell_type": "code",
      "metadata": {
        "colab": {
          "base_uri": "https://localhost:8080/"
        },
        "id": "CV3HrZHLh1hy",
        "outputId": "adb6637f-3dcc-4b3b-ea55-df50d3ebf418"
      },
      "source": [
        "dow_30.shape"
      ],
      "execution_count": null,
      "outputs": [
        {
          "output_type": "execute_result",
          "data": {
            "text/plain": [
              "(89190, 7)"
            ]
          },
          "metadata": {
            "tags": []
          },
          "execution_count": 7
        }
      ]
    },
    {
      "cell_type": "code",
      "metadata": {
        "colab": {
          "base_uri": "https://localhost:8080/",
          "height": 235
        },
        "id": "fYeJzIaVh1h1",
        "outputId": "3063a2d8-a4fe-47e0-ea2d-c7e288f25a67"
      },
      "source": [
        "dow_30.head()"
      ],
      "execution_count": null,
      "outputs": [
        {
          "output_type": "execute_result",
          "data": {
            "text/html": [
              "<div>\n",
              "<style scoped>\n",
              "    .dataframe tbody tr th:only-of-type {\n",
              "        vertical-align: middle;\n",
              "    }\n",
              "\n",
              "    .dataframe tbody tr th {\n",
              "        vertical-align: top;\n",
              "    }\n",
              "\n",
              "    .dataframe thead th {\n",
              "        text-align: right;\n",
              "    }\n",
              "</style>\n",
              "<table border=\"1\" class=\"dataframe\">\n",
              "  <thead>\n",
              "    <tr style=\"text-align: right;\">\n",
              "      <th></th>\n",
              "      <th>Open</th>\n",
              "      <th>High</th>\n",
              "      <th>Low</th>\n",
              "      <th>Close</th>\n",
              "      <th>Adj Close</th>\n",
              "      <th>Volume</th>\n",
              "      <th>tic</th>\n",
              "    </tr>\n",
              "    <tr>\n",
              "      <th>Date</th>\n",
              "      <th></th>\n",
              "      <th></th>\n",
              "      <th></th>\n",
              "      <th></th>\n",
              "      <th></th>\n",
              "      <th></th>\n",
              "      <th></th>\n",
              "    </tr>\n",
              "  </thead>\n",
              "  <tbody>\n",
              "    <tr>\n",
              "      <th>2009-01-02</th>\n",
              "      <td>3.067143</td>\n",
              "      <td>3.251429</td>\n",
              "      <td>3.041429</td>\n",
              "      <td>3.241071</td>\n",
              "      <td>2.791740</td>\n",
              "      <td>746015200</td>\n",
              "      <td>AAPL</td>\n",
              "    </tr>\n",
              "    <tr>\n",
              "      <th>2009-01-05</th>\n",
              "      <td>3.327500</td>\n",
              "      <td>3.435000</td>\n",
              "      <td>3.311071</td>\n",
              "      <td>3.377857</td>\n",
              "      <td>2.909563</td>\n",
              "      <td>1181608400</td>\n",
              "      <td>AAPL</td>\n",
              "    </tr>\n",
              "    <tr>\n",
              "      <th>2009-01-06</th>\n",
              "      <td>3.426786</td>\n",
              "      <td>3.470357</td>\n",
              "      <td>3.299643</td>\n",
              "      <td>3.322143</td>\n",
              "      <td>2.861573</td>\n",
              "      <td>1289310400</td>\n",
              "      <td>AAPL</td>\n",
              "    </tr>\n",
              "    <tr>\n",
              "      <th>2009-01-07</th>\n",
              "      <td>3.278929</td>\n",
              "      <td>3.303571</td>\n",
              "      <td>3.223571</td>\n",
              "      <td>3.250357</td>\n",
              "      <td>2.799739</td>\n",
              "      <td>753048800</td>\n",
              "      <td>AAPL</td>\n",
              "    </tr>\n",
              "    <tr>\n",
              "      <th>2009-01-08</th>\n",
              "      <td>3.229643</td>\n",
              "      <td>3.326786</td>\n",
              "      <td>3.215714</td>\n",
              "      <td>3.310714</td>\n",
              "      <td>2.851728</td>\n",
              "      <td>673500800</td>\n",
              "      <td>AAPL</td>\n",
              "    </tr>\n",
              "  </tbody>\n",
              "</table>\n",
              "</div>"
            ],
            "text/plain": [
              "                Open      High       Low     Close  Adj Close      Volume   tic\n",
              "Date                                                                           \n",
              "2009-01-02  3.067143  3.251429  3.041429  3.241071   2.791740   746015200  AAPL\n",
              "2009-01-05  3.327500  3.435000  3.311071  3.377857   2.909563  1181608400  AAPL\n",
              "2009-01-06  3.426786  3.470357  3.299643  3.322143   2.861573  1289310400  AAPL\n",
              "2009-01-07  3.278929  3.303571  3.223571  3.250357   2.799739   753048800  AAPL\n",
              "2009-01-08  3.229643  3.326786  3.215714  3.310714   2.851728   673500800  AAPL"
            ]
          },
          "metadata": {
            "tags": []
          },
          "execution_count": 8
        }
      ]
    },
    {
      "cell_type": "code",
      "metadata": {
        "id": "ji8k6gfth1h3"
      },
      "source": [
        "# reset the index, we want to use numbers instead of dates\n",
        "dow_30=dow_30.reset_index()"
      ],
      "execution_count": null,
      "outputs": []
    },
    {
      "cell_type": "code",
      "metadata": {
        "id": "SS2sZ4d_h1h6"
      },
      "source": [
        "# convert the column names to standardized names\n",
        "dow_30.columns = ['datadate','open','high','low','close','adjcp','volume','tic']"
      ],
      "execution_count": null,
      "outputs": []
    },
    {
      "cell_type": "code",
      "metadata": {
        "id": "QcFe8zF3h1h8"
      },
      "source": [
        "# convert date to string format, easy to filter\n",
        "dow_30['datadate']=dow_30.datadate.apply(lambda x: x.strftime('%Y-%m-%d'))"
      ],
      "execution_count": null,
      "outputs": []
    },
    {
      "cell_type": "code",
      "metadata": {
        "colab": {
          "base_uri": "https://localhost:8080/",
          "height": 204
        },
        "id": "f6kMMrDQh1h_",
        "outputId": "abaec40f-29ce-494a-80d4-fe82b833d393"
      },
      "source": [
        "dow_30.head()"
      ],
      "execution_count": null,
      "outputs": [
        {
          "output_type": "execute_result",
          "data": {
            "text/html": [
              "<div>\n",
              "<style scoped>\n",
              "    .dataframe tbody tr th:only-of-type {\n",
              "        vertical-align: middle;\n",
              "    }\n",
              "\n",
              "    .dataframe tbody tr th {\n",
              "        vertical-align: top;\n",
              "    }\n",
              "\n",
              "    .dataframe thead th {\n",
              "        text-align: right;\n",
              "    }\n",
              "</style>\n",
              "<table border=\"1\" class=\"dataframe\">\n",
              "  <thead>\n",
              "    <tr style=\"text-align: right;\">\n",
              "      <th></th>\n",
              "      <th>datadate</th>\n",
              "      <th>open</th>\n",
              "      <th>high</th>\n",
              "      <th>low</th>\n",
              "      <th>close</th>\n",
              "      <th>adjcp</th>\n",
              "      <th>volume</th>\n",
              "      <th>tic</th>\n",
              "    </tr>\n",
              "  </thead>\n",
              "  <tbody>\n",
              "    <tr>\n",
              "      <th>0</th>\n",
              "      <td>2009-01-02</td>\n",
              "      <td>3.067143</td>\n",
              "      <td>3.251429</td>\n",
              "      <td>3.041429</td>\n",
              "      <td>3.241071</td>\n",
              "      <td>2.791740</td>\n",
              "      <td>746015200</td>\n",
              "      <td>AAPL</td>\n",
              "    </tr>\n",
              "    <tr>\n",
              "      <th>1</th>\n",
              "      <td>2009-01-05</td>\n",
              "      <td>3.327500</td>\n",
              "      <td>3.435000</td>\n",
              "      <td>3.311071</td>\n",
              "      <td>3.377857</td>\n",
              "      <td>2.909563</td>\n",
              "      <td>1181608400</td>\n",
              "      <td>AAPL</td>\n",
              "    </tr>\n",
              "    <tr>\n",
              "      <th>2</th>\n",
              "      <td>2009-01-06</td>\n",
              "      <td>3.426786</td>\n",
              "      <td>3.470357</td>\n",
              "      <td>3.299643</td>\n",
              "      <td>3.322143</td>\n",
              "      <td>2.861573</td>\n",
              "      <td>1289310400</td>\n",
              "      <td>AAPL</td>\n",
              "    </tr>\n",
              "    <tr>\n",
              "      <th>3</th>\n",
              "      <td>2009-01-07</td>\n",
              "      <td>3.278929</td>\n",
              "      <td>3.303571</td>\n",
              "      <td>3.223571</td>\n",
              "      <td>3.250357</td>\n",
              "      <td>2.799739</td>\n",
              "      <td>753048800</td>\n",
              "      <td>AAPL</td>\n",
              "    </tr>\n",
              "    <tr>\n",
              "      <th>4</th>\n",
              "      <td>2009-01-08</td>\n",
              "      <td>3.229643</td>\n",
              "      <td>3.326786</td>\n",
              "      <td>3.215714</td>\n",
              "      <td>3.310714</td>\n",
              "      <td>2.851728</td>\n",
              "      <td>673500800</td>\n",
              "      <td>AAPL</td>\n",
              "    </tr>\n",
              "  </tbody>\n",
              "</table>\n",
              "</div>"
            ],
            "text/plain": [
              "     datadate      open      high  ...     adjcp      volume   tic\n",
              "0  2009-01-02  3.067143  3.251429  ...  2.791740   746015200  AAPL\n",
              "1  2009-01-05  3.327500  3.435000  ...  2.909563  1181608400  AAPL\n",
              "2  2009-01-06  3.426786  3.470357  ...  2.861573  1289310400  AAPL\n",
              "3  2009-01-07  3.278929  3.303571  ...  2.799739   753048800  AAPL\n",
              "4  2009-01-08  3.229643  3.326786  ...  2.851728   673500800  AAPL\n",
              "\n",
              "[5 rows x 8 columns]"
            ]
          },
          "metadata": {
            "tags": []
          },
          "execution_count": 12
        }
      ]
    },
    {
      "cell_type": "code",
      "metadata": {
        "colab": {
          "base_uri": "https://localhost:8080/"
        },
        "id": "kti5dQvBh1iE",
        "outputId": "07c21253-6e80-4137-90f5-7ad083f87fcc"
      },
      "source": [
        "dow_30.shape"
      ],
      "execution_count": null,
      "outputs": [
        {
          "output_type": "execute_result",
          "data": {
            "text/plain": [
              "(89190, 8)"
            ]
          },
          "metadata": {
            "tags": []
          },
          "execution_count": 13
        }
      ]
    },
    {
      "cell_type": "markdown",
      "metadata": {
        "id": "uqC6c40Zh1iH"
      },
      "source": [
        "# Part 2: Preprocess Data\n",
        "Data preprocessing is a crucial step for training a high quality machine learning model. We need to check for missing data and do feature engineering in order to convert the data into a model-ready state."
      ]
    },
    {
      "cell_type": "markdown",
      "metadata": {
        "id": "sJ-n0ZnPh1iH"
      },
      "source": [
        "## Check missing data"
      ]
    },
    {
      "cell_type": "code",
      "metadata": {
        "colab": {
          "base_uri": "https://localhost:8080/"
        },
        "id": "Le342Hc1h1iI",
        "outputId": "fbe858b5-9530-4d8f-bea3-34db191cd163"
      },
      "source": [
        "# check missing data \n",
        "dow_30.isnull().values.any()"
      ],
      "execution_count": null,
      "outputs": [
        {
          "output_type": "execute_result",
          "data": {
            "text/plain": [
              "False"
            ]
          },
          "metadata": {
            "tags": []
          },
          "execution_count": 14
        }
      ]
    },
    {
      "cell_type": "code",
      "metadata": {
        "id": "7j4KFI3Uh1iK"
      },
      "source": [
        "dow_30=dow_30.dropna()"
      ],
      "execution_count": null,
      "outputs": []
    },
    {
      "cell_type": "code",
      "metadata": {
        "colab": {
          "base_uri": "https://localhost:8080/"
        },
        "id": "ShFsAjbjitOU",
        "outputId": "b4466a55-906e-4c07-95fc-c8d3026a8b0f"
      },
      "source": [
        "dow_30.tic.value_counts()"
      ],
      "execution_count": null,
      "outputs": [
        {
          "output_type": "execute_result",
          "data": {
            "text/plain": [
              "MSFT    2973\n",
              "JNJ     2973\n",
              "UNH     2973\n",
              "RTX     2973\n",
              "JPM     2973\n",
              "MRK     2973\n",
              "BA      2973\n",
              "IBM     2973\n",
              "CVX     2973\n",
              "AXP     2973\n",
              "PFE     2973\n",
              "KO      2973\n",
              "CSCO    2973\n",
              "XOM     2973\n",
              "GS      2973\n",
              "NKE     2973\n",
              "WMT     2973\n",
              "VZ      2973\n",
              "PG      2973\n",
              "MMM     2973\n",
              "INTC    2973\n",
              "AAPL    2973\n",
              "WBA     2973\n",
              "MCD     2973\n",
              "DD      2973\n",
              "HD      2973\n",
              "DIS     2973\n",
              "V       2973\n",
              "CAT     2973\n",
              "TRV     2973\n",
              "Name: tic, dtype: int64"
            ]
          },
          "metadata": {
            "tags": []
          },
          "execution_count": 16
        }
      ]
    },
    {
      "cell_type": "code",
      "metadata": {
        "colab": {
          "base_uri": "https://localhost:8080/"
        },
        "id": "WAjH-SPOh1iN",
        "outputId": "8234e021-f8c1-468b-944c-b3a97ca0cd71"
      },
      "source": [
        "# check missing data \n",
        "dow_30.isnull().values.any()"
      ],
      "execution_count": null,
      "outputs": [
        {
          "output_type": "execute_result",
          "data": {
            "text/plain": [
              "False"
            ]
          },
          "metadata": {
            "tags": []
          },
          "execution_count": 17
        }
      ]
    },
    {
      "cell_type": "markdown",
      "metadata": {
        "id": "zNm1eCFRh1iP"
      },
      "source": [
        "## Add technical indicators\n",
        "In practical trading, various information needs to be taken into account, for example the historical stock prices, current holding shares, technical indicators, etc. In this article, we demonstrate two trend-following technical indicators: MACD and RSI."
      ]
    },
    {
      "cell_type": "code",
      "metadata": {
        "id": "zHKY4sGxh1iQ"
      },
      "source": [
        "def add_technical_indicator(df):\n",
        "        \"\"\"\n",
        "        calcualte technical indicators\n",
        "        use stockstats package to add technical inidactors\n",
        "        :param data: (df) pandas dataframe\n",
        "        :return: (df) pandas dataframe\n",
        "        \"\"\"\n",
        "        stock = Sdf.retype(df.copy())\n",
        "        stock['close'] = stock['adjcp']\n",
        "        unique_ticker = stock.tic.unique()\n",
        "\n",
        "        macd = pd.DataFrame()\n",
        "        rsi = pd.DataFrame()\n",
        "\n",
        "        #temp = stock[stock.tic == unique_ticker[0]]['macd']\n",
        "        for i in range(len(unique_ticker)):\n",
        "            ## macd\n",
        "            temp_macd = stock[stock.tic == unique_ticker[i]]['macd']\n",
        "            temp_macd = pd.DataFrame(temp_macd)\n",
        "            macd = macd.append(temp_macd, ignore_index=True)\n",
        "            ## rsi\n",
        "            temp_rsi = stock[stock.tic == unique_ticker[i]]['rsi_30']\n",
        "            temp_rsi = pd.DataFrame(temp_rsi)\n",
        "            rsi = rsi.append(temp_rsi, ignore_index=True)\n",
        "\n",
        "        df['macd'] = macd\n",
        "        df['rsi'] = rsi\n",
        "        return df"
      ],
      "execution_count": null,
      "outputs": []
    },
    {
      "cell_type": "code",
      "metadata": {
        "id": "WpVbCOz9h1iS",
        "scrolled": true
      },
      "source": [
        "dow_30 = add_technical_indicator(dow_30)"
      ],
      "execution_count": null,
      "outputs": []
    },
    {
      "cell_type": "code",
      "metadata": {
        "colab": {
          "base_uri": "https://localhost:8080/"
        },
        "id": "58lmCFfHh1iU",
        "outputId": "8e6a2faf-2c97-499b-c2d5-d78d93b19306"
      },
      "source": [
        "dow_30.shape\n"
      ],
      "execution_count": null,
      "outputs": [
        {
          "output_type": "execute_result",
          "data": {
            "text/plain": [
              "(89190, 10)"
            ]
          },
          "metadata": {
            "tags": []
          },
          "execution_count": 20
        }
      ]
    },
    {
      "cell_type": "code",
      "metadata": {
        "colab": {
          "base_uri": "https://localhost:8080/",
          "height": 204
        },
        "id": "waMYQ2Xrh1iX",
        "outputId": "3565a2df-46af-4840-f7ba-e97d7bcbc1e8"
      },
      "source": [
        "dow_30.head()"
      ],
      "execution_count": null,
      "outputs": [
        {
          "output_type": "execute_result",
          "data": {
            "text/html": [
              "<div>\n",
              "<style scoped>\n",
              "    .dataframe tbody tr th:only-of-type {\n",
              "        vertical-align: middle;\n",
              "    }\n",
              "\n",
              "    .dataframe tbody tr th {\n",
              "        vertical-align: top;\n",
              "    }\n",
              "\n",
              "    .dataframe thead th {\n",
              "        text-align: right;\n",
              "    }\n",
              "</style>\n",
              "<table border=\"1\" class=\"dataframe\">\n",
              "  <thead>\n",
              "    <tr style=\"text-align: right;\">\n",
              "      <th></th>\n",
              "      <th>datadate</th>\n",
              "      <th>open</th>\n",
              "      <th>high</th>\n",
              "      <th>low</th>\n",
              "      <th>close</th>\n",
              "      <th>adjcp</th>\n",
              "      <th>volume</th>\n",
              "      <th>tic</th>\n",
              "      <th>macd</th>\n",
              "      <th>rsi</th>\n",
              "    </tr>\n",
              "  </thead>\n",
              "  <tbody>\n",
              "    <tr>\n",
              "      <th>0</th>\n",
              "      <td>2009-01-02</td>\n",
              "      <td>3.067143</td>\n",
              "      <td>3.251429</td>\n",
              "      <td>3.041429</td>\n",
              "      <td>3.241071</td>\n",
              "      <td>2.791740</td>\n",
              "      <td>746015200</td>\n",
              "      <td>AAPL</td>\n",
              "      <td>0.000000</td>\n",
              "      <td>NaN</td>\n",
              "    </tr>\n",
              "    <tr>\n",
              "      <th>1</th>\n",
              "      <td>2009-01-05</td>\n",
              "      <td>3.327500</td>\n",
              "      <td>3.435000</td>\n",
              "      <td>3.311071</td>\n",
              "      <td>3.377857</td>\n",
              "      <td>2.909563</td>\n",
              "      <td>1181608400</td>\n",
              "      <td>AAPL</td>\n",
              "      <td>0.002643</td>\n",
              "      <td>100.000000</td>\n",
              "    </tr>\n",
              "    <tr>\n",
              "      <th>2</th>\n",
              "      <td>2009-01-06</td>\n",
              "      <td>3.426786</td>\n",
              "      <td>3.470357</td>\n",
              "      <td>3.299643</td>\n",
              "      <td>3.322143</td>\n",
              "      <td>2.861573</td>\n",
              "      <td>1289310400</td>\n",
              "      <td>AAPL</td>\n",
              "      <td>0.001880</td>\n",
              "      <td>70.355711</td>\n",
              "    </tr>\n",
              "    <tr>\n",
              "      <th>3</th>\n",
              "      <td>2009-01-07</td>\n",
              "      <td>3.278929</td>\n",
              "      <td>3.303571</td>\n",
              "      <td>3.223571</td>\n",
              "      <td>3.250357</td>\n",
              "      <td>2.799739</td>\n",
              "      <td>753048800</td>\n",
              "      <td>AAPL</td>\n",
              "      <td>-0.000746</td>\n",
              "      <td>50.429389</td>\n",
              "    </tr>\n",
              "    <tr>\n",
              "      <th>4</th>\n",
              "      <td>2009-01-08</td>\n",
              "      <td>3.229643</td>\n",
              "      <td>3.326786</td>\n",
              "      <td>3.215714</td>\n",
              "      <td>3.310714</td>\n",
              "      <td>2.851728</td>\n",
              "      <td>673500800</td>\n",
              "      <td>AAPL</td>\n",
              "      <td>-0.000088</td>\n",
              "      <td>60.227126</td>\n",
              "    </tr>\n",
              "  </tbody>\n",
              "</table>\n",
              "</div>"
            ],
            "text/plain": [
              "     datadate      open      high  ...   tic      macd         rsi\n",
              "0  2009-01-02  3.067143  3.251429  ...  AAPL  0.000000         NaN\n",
              "1  2009-01-05  3.327500  3.435000  ...  AAPL  0.002643  100.000000\n",
              "2  2009-01-06  3.426786  3.470357  ...  AAPL  0.001880   70.355711\n",
              "3  2009-01-07  3.278929  3.303571  ...  AAPL -0.000746   50.429389\n",
              "4  2009-01-08  3.229643  3.326786  ...  AAPL -0.000088   60.227126\n",
              "\n",
              "[5 rows x 10 columns]"
            ]
          },
          "metadata": {
            "tags": []
          },
          "execution_count": 21
        }
      ]
    },
    {
      "cell_type": "code",
      "metadata": {
        "colab": {
          "base_uri": "https://localhost:8080/",
          "height": 204
        },
        "id": "XnSmCG5Kh1iZ",
        "outputId": "b82e8a0c-d931-4f0c-d178-7cf3ad4b8fef"
      },
      "source": [
        "dow_30.tail()"
      ],
      "execution_count": null,
      "outputs": [
        {
          "output_type": "execute_result",
          "data": {
            "text/html": [
              "<div>\n",
              "<style scoped>\n",
              "    .dataframe tbody tr th:only-of-type {\n",
              "        vertical-align: middle;\n",
              "    }\n",
              "\n",
              "    .dataframe tbody tr th {\n",
              "        vertical-align: top;\n",
              "    }\n",
              "\n",
              "    .dataframe thead th {\n",
              "        text-align: right;\n",
              "    }\n",
              "</style>\n",
              "<table border=\"1\" class=\"dataframe\">\n",
              "  <thead>\n",
              "    <tr style=\"text-align: right;\">\n",
              "      <th></th>\n",
              "      <th>datadate</th>\n",
              "      <th>open</th>\n",
              "      <th>high</th>\n",
              "      <th>low</th>\n",
              "      <th>close</th>\n",
              "      <th>adjcp</th>\n",
              "      <th>volume</th>\n",
              "      <th>tic</th>\n",
              "      <th>macd</th>\n",
              "      <th>rsi</th>\n",
              "    </tr>\n",
              "  </thead>\n",
              "  <tbody>\n",
              "    <tr>\n",
              "      <th>89185</th>\n",
              "      <td>2020-10-16</td>\n",
              "      <td>59.450001</td>\n",
              "      <td>59.939999</td>\n",
              "      <td>58.930000</td>\n",
              "      <td>59.169998</td>\n",
              "      <td>58.643124</td>\n",
              "      <td>2805300</td>\n",
              "      <td>DD</td>\n",
              "      <td>0.589719</td>\n",
              "      <td>55.558782</td>\n",
              "    </tr>\n",
              "    <tr>\n",
              "      <th>89186</th>\n",
              "      <td>2020-10-19</td>\n",
              "      <td>59.349998</td>\n",
              "      <td>60.209999</td>\n",
              "      <td>58.209999</td>\n",
              "      <td>58.439999</td>\n",
              "      <td>57.919624</td>\n",
              "      <td>3827900</td>\n",
              "      <td>DD</td>\n",
              "      <td>0.573683</td>\n",
              "      <td>54.004843</td>\n",
              "    </tr>\n",
              "    <tr>\n",
              "      <th>89187</th>\n",
              "      <td>2020-10-20</td>\n",
              "      <td>58.680000</td>\n",
              "      <td>60.099998</td>\n",
              "      <td>58.549999</td>\n",
              "      <td>59.480000</td>\n",
              "      <td>58.950363</td>\n",
              "      <td>3722700</td>\n",
              "      <td>DD</td>\n",
              "      <td>0.636806</td>\n",
              "      <td>55.825736</td>\n",
              "    </tr>\n",
              "    <tr>\n",
              "      <th>89188</th>\n",
              "      <td>2020-10-21</td>\n",
              "      <td>59.160000</td>\n",
              "      <td>60.070000</td>\n",
              "      <td>58.570000</td>\n",
              "      <td>58.660000</td>\n",
              "      <td>58.137669</td>\n",
              "      <td>4201800</td>\n",
              "      <td>DD</td>\n",
              "      <td>0.614174</td>\n",
              "      <td>54.079485</td>\n",
              "    </tr>\n",
              "    <tr>\n",
              "      <th>89189</th>\n",
              "      <td>2020-10-22</td>\n",
              "      <td>58.910000</td>\n",
              "      <td>59.619999</td>\n",
              "      <td>58.250000</td>\n",
              "      <td>59.480000</td>\n",
              "      <td>58.950363</td>\n",
              "      <td>2977100</td>\n",
              "      <td>DD</td>\n",
              "      <td>0.654273</td>\n",
              "      <td>55.518852</td>\n",
              "    </tr>\n",
              "  </tbody>\n",
              "</table>\n",
              "</div>"
            ],
            "text/plain": [
              "         datadate       open       high  ...  tic      macd        rsi\n",
              "89185  2020-10-16  59.450001  59.939999  ...   DD  0.589719  55.558782\n",
              "89186  2020-10-19  59.349998  60.209999  ...   DD  0.573683  54.004843\n",
              "89187  2020-10-20  58.680000  60.099998  ...   DD  0.636806  55.825736\n",
              "89188  2020-10-21  59.160000  60.070000  ...   DD  0.614174  54.079485\n",
              "89189  2020-10-22  58.910000  59.619999  ...   DD  0.654273  55.518852\n",
              "\n",
              "[5 rows x 10 columns]"
            ]
          },
          "metadata": {
            "tags": []
          },
          "execution_count": 22
        }
      ]
    },
    {
      "cell_type": "code",
      "metadata": {
        "colab": {
          "base_uri": "https://localhost:8080/"
        },
        "id": "D1w15h8Fh1ib",
        "outputId": "ee362dbd-1022-457b-8c5d-3c1fc2499579"
      },
      "source": [
        "# check missing data \n",
        "dow_30.isnull().values.any()"
      ],
      "execution_count": null,
      "outputs": [
        {
          "output_type": "execute_result",
          "data": {
            "text/plain": [
              "True"
            ]
          },
          "metadata": {
            "tags": []
          },
          "execution_count": 23
        }
      ]
    },
    {
      "cell_type": "code",
      "metadata": {
        "colab": {
          "base_uri": "https://localhost:8080/"
        },
        "id": "tez5y38xh1ie",
        "outputId": "22f330e1-425e-485d-a4fc-cd3ef67bb929"
      },
      "source": [
        "dow_30.isna().any()"
      ],
      "execution_count": null,
      "outputs": [
        {
          "output_type": "execute_result",
          "data": {
            "text/plain": [
              "datadate    False\n",
              "open        False\n",
              "high        False\n",
              "low         False\n",
              "close       False\n",
              "adjcp       False\n",
              "volume      False\n",
              "tic         False\n",
              "macd        False\n",
              "rsi          True\n",
              "dtype: bool"
            ]
          },
          "metadata": {
            "tags": []
          },
          "execution_count": 24
        }
      ]
    },
    {
      "cell_type": "code",
      "metadata": {
        "id": "Wx0xF6O7h1ig"
      },
      "source": [
        "# fill missing data with forward filling and backward filling\n",
        "dow_30=dow_30.fillna(method='ffill')\n",
        "dow_30=dow_30.fillna(method='bfill')\n"
      ],
      "execution_count": null,
      "outputs": []
    },
    {
      "cell_type": "code",
      "metadata": {
        "colab": {
          "base_uri": "https://localhost:8080/"
        },
        "id": "9uLP0bqzh1ii",
        "outputId": "c181e2cb-e083-4d53-9ef2-7fc381af8213"
      },
      "source": [
        "# check missing data \n",
        "dow_30.isnull().values.any()"
      ],
      "execution_count": null,
      "outputs": [
        {
          "output_type": "execute_result",
          "data": {
            "text/plain": [
              "False"
            ]
          },
          "metadata": {
            "tags": []
          },
          "execution_count": 26
        }
      ]
    },
    {
      "cell_type": "code",
      "metadata": {
        "colab": {
          "base_uri": "https://localhost:8080/",
          "height": 204
        },
        "id": "4qyebQGAh1ik",
        "outputId": "fd096445-3603-4b3e-d77f-600bd6fca2c3"
      },
      "source": [
        "dow_30.tail()"
      ],
      "execution_count": null,
      "outputs": [
        {
          "output_type": "execute_result",
          "data": {
            "text/html": [
              "<div>\n",
              "<style scoped>\n",
              "    .dataframe tbody tr th:only-of-type {\n",
              "        vertical-align: middle;\n",
              "    }\n",
              "\n",
              "    .dataframe tbody tr th {\n",
              "        vertical-align: top;\n",
              "    }\n",
              "\n",
              "    .dataframe thead th {\n",
              "        text-align: right;\n",
              "    }\n",
              "</style>\n",
              "<table border=\"1\" class=\"dataframe\">\n",
              "  <thead>\n",
              "    <tr style=\"text-align: right;\">\n",
              "      <th></th>\n",
              "      <th>datadate</th>\n",
              "      <th>open</th>\n",
              "      <th>high</th>\n",
              "      <th>low</th>\n",
              "      <th>close</th>\n",
              "      <th>adjcp</th>\n",
              "      <th>volume</th>\n",
              "      <th>tic</th>\n",
              "      <th>macd</th>\n",
              "      <th>rsi</th>\n",
              "    </tr>\n",
              "  </thead>\n",
              "  <tbody>\n",
              "    <tr>\n",
              "      <th>89185</th>\n",
              "      <td>2020-10-16</td>\n",
              "      <td>59.450001</td>\n",
              "      <td>59.939999</td>\n",
              "      <td>58.930000</td>\n",
              "      <td>59.169998</td>\n",
              "      <td>58.643124</td>\n",
              "      <td>2805300</td>\n",
              "      <td>DD</td>\n",
              "      <td>0.589719</td>\n",
              "      <td>55.558782</td>\n",
              "    </tr>\n",
              "    <tr>\n",
              "      <th>89186</th>\n",
              "      <td>2020-10-19</td>\n",
              "      <td>59.349998</td>\n",
              "      <td>60.209999</td>\n",
              "      <td>58.209999</td>\n",
              "      <td>58.439999</td>\n",
              "      <td>57.919624</td>\n",
              "      <td>3827900</td>\n",
              "      <td>DD</td>\n",
              "      <td>0.573683</td>\n",
              "      <td>54.004843</td>\n",
              "    </tr>\n",
              "    <tr>\n",
              "      <th>89187</th>\n",
              "      <td>2020-10-20</td>\n",
              "      <td>58.680000</td>\n",
              "      <td>60.099998</td>\n",
              "      <td>58.549999</td>\n",
              "      <td>59.480000</td>\n",
              "      <td>58.950363</td>\n",
              "      <td>3722700</td>\n",
              "      <td>DD</td>\n",
              "      <td>0.636806</td>\n",
              "      <td>55.825736</td>\n",
              "    </tr>\n",
              "    <tr>\n",
              "      <th>89188</th>\n",
              "      <td>2020-10-21</td>\n",
              "      <td>59.160000</td>\n",
              "      <td>60.070000</td>\n",
              "      <td>58.570000</td>\n",
              "      <td>58.660000</td>\n",
              "      <td>58.137669</td>\n",
              "      <td>4201800</td>\n",
              "      <td>DD</td>\n",
              "      <td>0.614174</td>\n",
              "      <td>54.079485</td>\n",
              "    </tr>\n",
              "    <tr>\n",
              "      <th>89189</th>\n",
              "      <td>2020-10-22</td>\n",
              "      <td>58.910000</td>\n",
              "      <td>59.619999</td>\n",
              "      <td>58.250000</td>\n",
              "      <td>59.480000</td>\n",
              "      <td>58.950363</td>\n",
              "      <td>2977100</td>\n",
              "      <td>DD</td>\n",
              "      <td>0.654273</td>\n",
              "      <td>55.518852</td>\n",
              "    </tr>\n",
              "  </tbody>\n",
              "</table>\n",
              "</div>"
            ],
            "text/plain": [
              "         datadate       open       high  ...  tic      macd        rsi\n",
              "89185  2020-10-16  59.450001  59.939999  ...   DD  0.589719  55.558782\n",
              "89186  2020-10-19  59.349998  60.209999  ...   DD  0.573683  54.004843\n",
              "89187  2020-10-20  58.680000  60.099998  ...   DD  0.636806  55.825736\n",
              "89188  2020-10-21  59.160000  60.070000  ...   DD  0.614174  54.079485\n",
              "89189  2020-10-22  58.910000  59.619999  ...   DD  0.654273  55.518852\n",
              "\n",
              "[5 rows x 10 columns]"
            ]
          },
          "metadata": {
            "tags": []
          },
          "execution_count": 27
        }
      ]
    },
    {
      "cell_type": "markdown",
      "metadata": {
        "id": "qL4wcaT-h1im"
      },
      "source": [
        "## Add turbulence index\n",
        "Risk-aversion reflects whether an investor will choose to preserve the capital. It also influences one's trading strategy when facing different market volatility level.\n",
        "\n",
        "To control the risk in a worst-case scenario, such as financial crisis of 2007–2008, FinRL employs the financial turbulence index that measures extreme asset price fluctuation."
      ]
    },
    {
      "cell_type": "code",
      "metadata": {
        "id": "70-XFED3h1in"
      },
      "source": [
        "def add_turbulence(df):\n",
        "    \"\"\"\n",
        "    add turbulence index from a precalcualted dataframe\n",
        "    :param data: (df) pandas dataframe\n",
        "    :return: (df) pandas dataframe\n",
        "    \"\"\"\n",
        "    turbulence_index = calcualte_turbulence(df)\n",
        "    df = df.merge(turbulence_index, on='datadate')\n",
        "    df = df.sort_values(['datadate','tic']).reset_index(drop=True)\n",
        "    return df\n",
        "\n",
        "\n",
        "\n",
        "def calcualte_turbulence(df):\n",
        "    \"\"\"calculate turbulence index based on dow 30\"\"\"\n",
        "    # can add other market assets\n",
        "    \n",
        "    df_price_pivot=df.pivot(index='datadate', columns='tic', values='adjcp')\n",
        "    unique_date = df.datadate.unique()\n",
        "    # start after a year\n",
        "    start = 252\n",
        "    turbulence_index = [0]*start\n",
        "    #turbulence_index = [0]\n",
        "    count=0\n",
        "    for i in range(start,len(unique_date)):\n",
        "        current_price = df_price_pivot[df_price_pivot.index == unique_date[i]]\n",
        "        hist_price = df_price_pivot[[n in unique_date[0:i] for n in df_price_pivot.index ]]\n",
        "        cov_temp = hist_price.cov()\n",
        "        current_temp=(current_price - np.mean(hist_price,axis=0))\n",
        "        temp = current_temp.values.dot(np.linalg.inv(cov_temp)).dot(current_temp.values.T)\n",
        "        if temp>0:\n",
        "            count+=1\n",
        "            if count>2:\n",
        "                turbulence_temp = temp[0][0]\n",
        "            else:\n",
        "                #avoid large outlier because of the calculation just begins\n",
        "                turbulence_temp=0\n",
        "        else:\n",
        "            turbulence_temp=0\n",
        "        turbulence_index.append(turbulence_temp)\n",
        "    \n",
        "    \n",
        "    turbulence_index = pd.DataFrame({'datadate':df_price_pivot.index,\n",
        "                                     'turbulence':turbulence_index})\n",
        "    return turbulence_index"
      ],
      "execution_count": null,
      "outputs": []
    },
    {
      "cell_type": "code",
      "metadata": {
        "id": "JsVF4J6wh1ip"
      },
      "source": [
        "## took about 8 mins to finish\n",
        "dow_30 = add_turbulence(dow_30)"
      ],
      "execution_count": null,
      "outputs": []
    },
    {
      "cell_type": "code",
      "metadata": {
        "colab": {
          "base_uri": "https://localhost:8080/"
        },
        "id": "HJJPCm7kh1ir",
        "outputId": "9acacdc7-d4f5-4edc-e710-587f729ace67"
      },
      "source": [
        "dow_30.shape"
      ],
      "execution_count": null,
      "outputs": [
        {
          "output_type": "execute_result",
          "data": {
            "text/plain": [
              "(89190, 11)"
            ]
          },
          "metadata": {
            "tags": []
          },
          "execution_count": 30
        }
      ]
    },
    {
      "cell_type": "code",
      "metadata": {
        "colab": {
          "base_uri": "https://localhost:8080/",
          "height": 204
        },
        "id": "Fl82W2rDh1it",
        "outputId": "28a14d74-cbfb-44d5-c736-3a64314d94b1"
      },
      "source": [
        "dow_30.head()"
      ],
      "execution_count": null,
      "outputs": [
        {
          "output_type": "execute_result",
          "data": {
            "text/html": [
              "<div>\n",
              "<style scoped>\n",
              "    .dataframe tbody tr th:only-of-type {\n",
              "        vertical-align: middle;\n",
              "    }\n",
              "\n",
              "    .dataframe tbody tr th {\n",
              "        vertical-align: top;\n",
              "    }\n",
              "\n",
              "    .dataframe thead th {\n",
              "        text-align: right;\n",
              "    }\n",
              "</style>\n",
              "<table border=\"1\" class=\"dataframe\">\n",
              "  <thead>\n",
              "    <tr style=\"text-align: right;\">\n",
              "      <th></th>\n",
              "      <th>datadate</th>\n",
              "      <th>open</th>\n",
              "      <th>high</th>\n",
              "      <th>low</th>\n",
              "      <th>close</th>\n",
              "      <th>adjcp</th>\n",
              "      <th>volume</th>\n",
              "      <th>tic</th>\n",
              "      <th>macd</th>\n",
              "      <th>rsi</th>\n",
              "      <th>turbulence</th>\n",
              "    </tr>\n",
              "  </thead>\n",
              "  <tbody>\n",
              "    <tr>\n",
              "      <th>0</th>\n",
              "      <td>2009-01-02</td>\n",
              "      <td>3.067143</td>\n",
              "      <td>3.251429</td>\n",
              "      <td>3.041429</td>\n",
              "      <td>3.241071</td>\n",
              "      <td>2.791740</td>\n",
              "      <td>746015200</td>\n",
              "      <td>AAPL</td>\n",
              "      <td>0.0</td>\n",
              "      <td>100.000000</td>\n",
              "      <td>0.0</td>\n",
              "    </tr>\n",
              "    <tr>\n",
              "      <th>1</th>\n",
              "      <td>2009-01-02</td>\n",
              "      <td>18.570000</td>\n",
              "      <td>19.520000</td>\n",
              "      <td>18.400000</td>\n",
              "      <td>19.330000</td>\n",
              "      <td>15.698216</td>\n",
              "      <td>10955700</td>\n",
              "      <td>AXP</td>\n",
              "      <td>0.0</td>\n",
              "      <td>52.253831</td>\n",
              "      <td>0.0</td>\n",
              "    </tr>\n",
              "    <tr>\n",
              "      <th>2</th>\n",
              "      <td>2009-01-02</td>\n",
              "      <td>42.799999</td>\n",
              "      <td>45.560001</td>\n",
              "      <td>42.779999</td>\n",
              "      <td>45.250000</td>\n",
              "      <td>33.941101</td>\n",
              "      <td>7010200</td>\n",
              "      <td>BA</td>\n",
              "      <td>0.0</td>\n",
              "      <td>43.526115</td>\n",
              "      <td>0.0</td>\n",
              "    </tr>\n",
              "    <tr>\n",
              "      <th>3</th>\n",
              "      <td>2009-01-02</td>\n",
              "      <td>44.910000</td>\n",
              "      <td>46.980000</td>\n",
              "      <td>44.709999</td>\n",
              "      <td>46.910000</td>\n",
              "      <td>32.830360</td>\n",
              "      <td>7117200</td>\n",
              "      <td>CAT</td>\n",
              "      <td>0.0</td>\n",
              "      <td>55.913741</td>\n",
              "      <td>0.0</td>\n",
              "    </tr>\n",
              "    <tr>\n",
              "      <th>4</th>\n",
              "      <td>2009-01-02</td>\n",
              "      <td>16.410000</td>\n",
              "      <td>17.000000</td>\n",
              "      <td>16.250000</td>\n",
              "      <td>16.959999</td>\n",
              "      <td>12.592946</td>\n",
              "      <td>40980600</td>\n",
              "      <td>CSCO</td>\n",
              "      <td>0.0</td>\n",
              "      <td>46.050488</td>\n",
              "      <td>0.0</td>\n",
              "    </tr>\n",
              "  </tbody>\n",
              "</table>\n",
              "</div>"
            ],
            "text/plain": [
              "     datadate       open       high  ...  macd         rsi  turbulence\n",
              "0  2009-01-02   3.067143   3.251429  ...   0.0  100.000000         0.0\n",
              "1  2009-01-02  18.570000  19.520000  ...   0.0   52.253831         0.0\n",
              "2  2009-01-02  42.799999  45.560001  ...   0.0   43.526115         0.0\n",
              "3  2009-01-02  44.910000  46.980000  ...   0.0   55.913741         0.0\n",
              "4  2009-01-02  16.410000  17.000000  ...   0.0   46.050488         0.0\n",
              "\n",
              "[5 rows x 11 columns]"
            ]
          },
          "metadata": {
            "tags": []
          },
          "execution_count": 31
        }
      ]
    },
    {
      "cell_type": "markdown",
      "metadata": {
        "id": "-QsYaY0Dh1iw"
      },
      "source": [
        "# Part 3: Design Environment\n",
        "Considering the stochastic and interactive nature of the automated stock trading tasks, a financial task is modeled as a Markov Decision Process (MDP) problem. The training process involves observing stock price change, taking an action and reward's calculation to have the agent adjusting its strategy accordingly. By interacting with the environment, the trading agent will derive a trading strategy with the maximized rewards as time proceeds.\n",
        "\n",
        "Our trading environments, based on OpenAI Gym framework, simulate live stock markets with real market data according to the principle of time-driven simulation.\n",
        "\n",
        "The action space describes the allowed actions that the agent interacts with the environment. Normally, action a includes three actions: {-1, 0, 1}, where -1, 0, 1 represent selling, holding, and buying one share. Also, an action can be carried upon multiple shares. We use an action space {-k,…,-1, 0, 1, …, k}, where k denotes the number of shares to buy and -k denotes the number of shares to sell. For example, \"Buy 10 shares of AAPL\" or \"Sell 10 shares of AAPL\" are 10 or -10, respectively. The continuous action space needs to be normalized to [-1, 1], since the policy is defined on a Gaussian distribution, which needs to be normalized and symmetric."
      ]
    },
    {
      "cell_type": "markdown",
      "metadata": {
        "id": "64EoqOrQjiVf"
      },
      "source": [
        "## Environment for Training\n",
        "\n"
      ]
    },
    {
      "cell_type": "code",
      "metadata": {
        "id": "aUjpqDVxjgmI"
      },
      "source": [
        "## Environment for Training\n",
        "import numpy as np\n",
        "import pandas as pd\n",
        "from gym.utils import seeding\n",
        "import gym\n",
        "from gym import spaces\n",
        "import matplotlib\n",
        "matplotlib.use('Agg')\n",
        "import matplotlib.pyplot as plt\n",
        "\n",
        "# shares normalization factor\n",
        "# 100 shares per trade\n",
        "HMAX_NORMALIZE = 100\n",
        "# initial amount of money we have in our account\n",
        "INITIAL_ACCOUNT_BALANCE=1000000\n",
        "# total number of stocks in our portfolio\n",
        "STOCK_DIM = 30\n",
        "# transaction fee: 1/1000 reasonable percentage\n",
        "TRANSACTION_FEE_PERCENT = 0.001\n",
        "\n",
        "REWARD_SCALING = 1e-4\n",
        "\n",
        "\n",
        "class StockEnvTrain(gym.Env):\n",
        "    \"\"\"A stock trading environment for OpenAI gym\"\"\"\n",
        "    metadata = {'render.modes': ['human']}\n",
        "\n",
        "    def __init__(self, df,day = 0):\n",
        "        #super(StockEnv, self).__init__()\n",
        "        self.day = day\n",
        "        self.df = df\n",
        "\n",
        "        # action_space normalization and shape is STOCK_DIM\n",
        "        self.action_space = spaces.Box(low = -1, high = 1,shape = (STOCK_DIM,)) \n",
        "        # Shape = 181: [Current Balance]+[prices 1-30]+[owned shares 1-30] \n",
        "        # +[macd 1-30]+ [rsi 1-30] + [cci 1-30] + [adx 1-30]\n",
        "        self.observation_space = spaces.Box(low=0, high=np.inf, shape = (121,))\n",
        "        # load data from a pandas dataframe\n",
        "        self.data = self.df.loc[self.day,:]\n",
        "        self.terminal = False             \n",
        "        # initalize state\n",
        "        self.state = [INITIAL_ACCOUNT_BALANCE] + \\\n",
        "                      self.data.adjcp.values.tolist() + \\\n",
        "                      [0]*STOCK_DIM + \\\n",
        "                      self.data.macd.values.tolist() + \\\n",
        "                      self.data.rsi.values.tolist()\n",
        "                      #self.data.cci.values.tolist() + \\\n",
        "                      #self.data.adx.values.tolist()\n",
        "        # initialize reward\n",
        "        self.reward = 0\n",
        "        self.cost = 0\n",
        "        # memorize all the total balance change\n",
        "        self.asset_memory = [INITIAL_ACCOUNT_BALANCE]\n",
        "        self.rewards_memory = []\n",
        "        self.trades = 0\n",
        "        self._seed()\n",
        "\n",
        "    def _sell_stock(self, index, action):\n",
        "        # perform sell action based on the sign of the action\n",
        "        if self.state[index+STOCK_DIM+1] > 0:\n",
        "            #update balance\n",
        "            self.state[0] += \\\n",
        "            self.state[index+1]*min(abs(action),self.state[index+STOCK_DIM+1]) * \\\n",
        "             (1- TRANSACTION_FEE_PERCENT)\n",
        "\n",
        "            self.state[index+STOCK_DIM+1] -= min(abs(action), self.state[index+STOCK_DIM+1])\n",
        "            self.cost +=self.state[index+1]*min(abs(action),self.state[index+STOCK_DIM+1]) * \\\n",
        "             TRANSACTION_FEE_PERCENT\n",
        "            self.trades+=1\n",
        "        else:\n",
        "            pass\n",
        "    \n",
        "    def _buy_stock(self, index, action):\n",
        "        # perform buy action based on the sign of the action\n",
        "        available_amount = self.state[0] // self.state[index+1]\n",
        "        # print('available_amount:{}'.format(available_amount))\n",
        "\n",
        "        #update balance\n",
        "        self.state[0] -= self.state[index+1]*min(available_amount, action)* \\\n",
        "                          (1+ TRANSACTION_FEE_PERCENT)\n",
        "\n",
        "        self.state[index+STOCK_DIM+1] += min(available_amount, action)\n",
        "\n",
        "        self.cost+=self.state[index+1]*min(available_amount, action)* \\\n",
        "                          TRANSACTION_FEE_PERCENT\n",
        "        self.trades+=1\n",
        "        \n",
        "    def step(self, actions):\n",
        "        # print(self.day)\n",
        "        self.terminal = self.day >= len(self.df.index.unique())-1\n",
        "        # print(actions)\n",
        "\n",
        "        if self.terminal:\n",
        "            plt.plot(self.asset_memory,'r')\n",
        "            plt.savefig('account_value_train.png')\n",
        "            plt.close()\n",
        "            end_total_asset = self.state[0]+ \\\n",
        "            sum(np.array(self.state[1:(STOCK_DIM+1)])*np.array(self.state[(STOCK_DIM+1):(STOCK_DIM*2+1)]))\n",
        "            print(\"previous_total_asset:{}\".format(self.asset_memory[0]))           \n",
        "\n",
        "            print(\"end_total_asset:{}\".format(end_total_asset))\n",
        "            df_total_value = pd.DataFrame(self.asset_memory)\n",
        "            df_total_value.to_csv('account_value_train.csv')\n",
        "            print(\"total_reward:{}\".format(self.state[0]+sum(np.array(self.state[1:(STOCK_DIM+1)])*np.array(self.state[(STOCK_DIM+1):61]))- INITIAL_ACCOUNT_BALANCE ))\n",
        "            print(\"total_cost: \", self.cost)\n",
        "            print(\"total_trades: \", self.trades)\n",
        "            df_total_value.columns = ['account_value']\n",
        "            df_total_value['daily_return']=df_total_value.pct_change(1)\n",
        "            sharpe = (252**0.5)*df_total_value['daily_return'].mean()/ \\\n",
        "                  df_total_value['daily_return'].std()\n",
        "            print(\"Sharpe: \",sharpe)\n",
        "            print(\"=================================\")\n",
        "            df_rewards = pd.DataFrame(self.rewards_memory)\n",
        "            df_rewards.to_csv('account_rewards_train.csv')\n",
        "\n",
        "            return self.state, self.reward, self.terminal,{}\n",
        "\n",
        "        else:\n",
        "            actions = actions * HMAX_NORMALIZE\n",
        "            \n",
        "            begin_total_asset = self.state[0]+ \\\n",
        "            sum(np.array(self.state[1:(STOCK_DIM+1)])*np.array(self.state[(STOCK_DIM+1):61]))\n",
        "            #print(\"begin_total_asset:{}\".format(begin_total_asset))\n",
        "            \n",
        "            argsort_actions = np.argsort(actions)\n",
        "            \n",
        "            sell_index = argsort_actions[:np.where(actions < 0)[0].shape[0]]\n",
        "            buy_index = argsort_actions[::-1][:np.where(actions > 0)[0].shape[0]]\n",
        "\n",
        "            for index in sell_index:\n",
        "                # print('take sell action'.format(actions[index]))\n",
        "                self._sell_stock(index, actions[index])\n",
        "\n",
        "            for index in buy_index:\n",
        "                # print('take buy action: {}'.format(actions[index]))\n",
        "                self._buy_stock(index, actions[index])\n",
        "\n",
        "            self.day += 1\n",
        "            self.data = self.df.loc[self.day,:]         \n",
        "            #load next state\n",
        "            # print(\"stock_shares:{}\".format(self.state[29:]))\n",
        "            self.state =  [self.state[0]] + \\\n",
        "                    self.data.adjcp.values.tolist() + \\\n",
        "                    list(self.state[(STOCK_DIM+1):61]) + \\\n",
        "                    self.data.macd.values.tolist() + \\\n",
        "                    self.data.rsi.values.tolist() \n",
        "            \n",
        "            end_total_asset = self.state[0]+ \\\n",
        "            sum(np.array(self.state[1:(STOCK_DIM+1)])*np.array(self.state[(STOCK_DIM+1):61]))\n",
        "            \n",
        "            #print(\"end_total_asset:{}\".format(end_total_asset))\n",
        "            \n",
        "            self.reward = end_total_asset - begin_total_asset  \n",
        "            self.rewards_memory.append(self.reward)\n",
        "            \n",
        "            self.reward = self.reward * REWARD_SCALING\n",
        "            # print(\"step_reward:{}\".format(self.reward))\n",
        "            \n",
        "            self.asset_memory.append(end_total_asset)\n",
        "\n",
        "\n",
        "        return self.state, self.reward, self.terminal, {}\n",
        "\n",
        "    def reset(self):\n",
        "        self.asset_memory = [INITIAL_ACCOUNT_BALANCE]\n",
        "        self.day = 0\n",
        "        self.data = self.df.loc[self.day,:]\n",
        "        self.cost = 0\n",
        "        self.trades = 0\n",
        "        self.terminal = False \n",
        "        self.rewards_memory = []\n",
        "        #initiate state\n",
        "        self.state = [INITIAL_ACCOUNT_BALANCE] + \\\n",
        "                      self.data.adjcp.values.tolist() + \\\n",
        "                      [0]*STOCK_DIM + \\\n",
        "                      self.data.macd.values.tolist() + \\\n",
        "                      self.data.rsi.values.tolist() \n",
        "        return self.state\n",
        "    \n",
        "    def render(self, mode='human'):\n",
        "        return self.state\n",
        "\n",
        "    def _seed(self, seed=None):\n",
        "        self.np_random, seed = seeding.np_random(seed)\n",
        "        return [seed]"
      ],
      "execution_count": null,
      "outputs": []
    },
    {
      "cell_type": "markdown",
      "metadata": {
        "id": "4QrezXm3jwu4"
      },
      "source": [
        "## Environment for Trading\n",
        "\n"
      ]
    },
    {
      "cell_type": "code",
      "metadata": {
        "id": "UStwTAVCjuHP"
      },
      "source": [
        "## Environment for Trading\n",
        "import numpy as np\n",
        "import pandas as pd\n",
        "from gym.utils import seeding\n",
        "import gym\n",
        "from gym import spaces\n",
        "import matplotlib\n",
        "matplotlib.use('Agg')\n",
        "import matplotlib.pyplot as plt\n",
        "\n",
        "# shares normalization factor\n",
        "# 100 shares per trade\n",
        "HMAX_NORMALIZE = 100\n",
        "# initial amount of money we have in our account\n",
        "INITIAL_ACCOUNT_BALANCE=1000000\n",
        "# total number of stocks in our portfolio\n",
        "STOCK_DIM = 30\n",
        "# transaction fee: 1/1000 reasonable percentage\n",
        "TRANSACTION_FEE_PERCENT = 0.001\n",
        "\n",
        "# turbulence index: 90-150 reasonable threshold\n",
        "#TURBULENCE_THRESHOLD = 140\n",
        "REWARD_SCALING = 1e-4\n",
        "\n",
        "class StockEnvTrade(gym.Env):\n",
        "    \"\"\"A stock trading environment for OpenAI gym\"\"\"\n",
        "    metadata = {'render.modes': ['human']}\n",
        "\n",
        "    def __init__(self, df,day = 0,turbulence_threshold=140):\n",
        "        #super(StockEnv, self).__init__()\n",
        "        #money = 10 , scope = 1\n",
        "        self.day = day\n",
        "        self.df = df\n",
        "        # action_space normalization and shape is STOCK_DIM\n",
        "        self.action_space = spaces.Box(low = -1, high = 1,shape = (STOCK_DIM,)) \n",
        "        # Shape = 181: [Current Balance]+[prices 1-30]+[owned shares 1-30] \n",
        "        # +[macd 1-30]+ [rsi 1-30] + [cci 1-30] + [adx 1-30]\n",
        "        self.observation_space = spaces.Box(low=0, high=np.inf, shape = (121,))\n",
        "        # load data from a pandas dataframe\n",
        "        self.data = self.df.loc[self.day,:]\n",
        "        self.terminal = False     \n",
        "        self.turbulence_threshold = turbulence_threshold\n",
        "        # initalize state\n",
        "        self.state = [INITIAL_ACCOUNT_BALANCE] + \\\n",
        "                      self.data.adjcp.values.tolist() + \\\n",
        "                      [0]*STOCK_DIM + \\\n",
        "                      self.data.macd.values.tolist() + \\\n",
        "                      self.data.rsi.values.tolist() \n",
        "\n",
        "        # initialize reward\n",
        "        self.reward = 0\n",
        "        self.turbulence = 0\n",
        "        self.cost = 0\n",
        "        self.trades = 0\n",
        "        # memorize all the total balance change\n",
        "        self.asset_memory = [INITIAL_ACCOUNT_BALANCE]\n",
        "        self.rewards_memory = []\n",
        "        self.actions_memory=[]\n",
        "        self.date_memory=[]\n",
        "        self._seed()\n",
        "\n",
        "\n",
        "    def _sell_stock(self, index, action):\n",
        "        # perform sell action based on the sign of the action\n",
        "        if self.turbulence<self.turbulence_threshold:\n",
        "            if self.state[index+STOCK_DIM+1] > 0:\n",
        "                #update balance\n",
        "                self.state[0] += \\\n",
        "                self.state[index+1]*min(abs(action),self.state[index+STOCK_DIM+1]) * \\\n",
        "                 (1- TRANSACTION_FEE_PERCENT)\n",
        "                \n",
        "                self.state[index+STOCK_DIM+1] -= min(abs(action), self.state[index+STOCK_DIM+1])\n",
        "                self.cost +=self.state[index+1]*min(abs(action),self.state[index+STOCK_DIM+1]) * \\\n",
        "                 TRANSACTION_FEE_PERCENT\n",
        "                self.trades+=1\n",
        "            else:\n",
        "                pass\n",
        "        else:\n",
        "            # if turbulence goes over threshold, just clear out all positions \n",
        "            if self.state[index+STOCK_DIM+1] > 0:\n",
        "                #update balance\n",
        "                self.state[0] += self.state[index+1]*self.state[index+STOCK_DIM+1]* \\\n",
        "                              (1- TRANSACTION_FEE_PERCENT)\n",
        "                self.state[index+STOCK_DIM+1] =0\n",
        "                self.cost += self.state[index+1]*self.state[index+STOCK_DIM+1]* \\\n",
        "                              TRANSACTION_FEE_PERCENT\n",
        "                self.trades+=1\n",
        "            else:\n",
        "                pass\n",
        "    \n",
        "    def _buy_stock(self, index, action):\n",
        "        # perform buy action based on the sign of the action\n",
        "        if self.turbulence< self.turbulence_threshold:\n",
        "            available_amount = self.state[0] // self.state[index+1]\n",
        "            # print('available_amount:{}'.format(available_amount))\n",
        "            \n",
        "            #update balance\n",
        "            self.state[0] -= self.state[index+1]*min(available_amount, action)* \\\n",
        "                              (1+ TRANSACTION_FEE_PERCENT)\n",
        "\n",
        "            self.state[index+STOCK_DIM+1] += min(available_amount, action)\n",
        "            \n",
        "            self.cost+=self.state[index+1]*min(available_amount, action)* \\\n",
        "                              TRANSACTION_FEE_PERCENT\n",
        "            self.trades+=1\n",
        "        else:\n",
        "            # if turbulence goes over threshold, just stop buying\n",
        "            pass\n",
        "        \n",
        "    def step(self, actions):\n",
        "        # print(self.day)\n",
        "        self.terminal = self.day >= len(self.df.index.unique())-1\n",
        "        # print(actions)\n",
        "\n",
        "        if self.terminal:\n",
        "            plt.plot(self.asset_memory,'r')\n",
        "            plt.savefig('account_value_trade.png')\n",
        "            plt.close()\n",
        "            \n",
        "            df_date = pd.DataFrame(self.date_memory)\n",
        "            df_date.columns = ['datadate']\n",
        "            df_date.to_csv('df_date.csv')\n",
        "            \n",
        "            \n",
        "            df_actions = pd.DataFrame(self.actions_memory)\n",
        "            df_actions.columns = self.data.tic.values\n",
        "            df_actions.index = df_date.datadate                               \n",
        "            df_actions.to_csv('df_actions.csv')\n",
        "            \n",
        "            df_total_value = pd.DataFrame(self.asset_memory)\n",
        "            df_total_value.to_csv('account_value_trade.csv')\n",
        "            end_total_asset = self.state[0]+ \\\n",
        "            sum(np.array(self.state[1:(STOCK_DIM+1)])*np.array(self.state[(STOCK_DIM+1):(STOCK_DIM*2+1)]))\n",
        "            print(\"previous_total_asset:{}\".format(self.asset_memory[0]))           \n",
        "\n",
        "            print(\"end_total_asset:{}\".format(end_total_asset))\n",
        "            print(\"total_reward:{}\".format(self.state[0]+sum(np.array(self.state[1:(STOCK_DIM+1)])*np.array(self.state[(STOCK_DIM+1):61]))- self.asset_memory[0] ))\n",
        "            print(\"total_cost: \", self.cost)\n",
        "            print(\"total trades: \", self.trades)\n",
        "\n",
        "            df_total_value.columns = ['account_value']\n",
        "            df_total_value['daily_return']=df_total_value.pct_change(1)\n",
        "            sharpe = (252**0.5)*df_total_value['daily_return'].mean()/ \\\n",
        "                  df_total_value['daily_return'].std()\n",
        "            print(\"Sharpe: \",sharpe)\n",
        "            \n",
        "            df_rewards = pd.DataFrame(self.rewards_memory)\n",
        "            df_rewards.to_csv('account_rewards_trade.csv')\n",
        "            \n",
        "            # print('total asset: {}'.format(self.state[0]+ sum(np.array(self.state[1:29])*np.array(self.state[29:]))))\n",
        "            #with open('obs.pkl', 'wb') as f:  \n",
        "            #    pickle.dump(self.state, f)\n",
        "            \n",
        "            return self.state, self.reward, self.terminal,{}\n",
        "\n",
        "        else:\n",
        "            # print(np.array(self.state[1:29]))\n",
        "            self.date_memory.append(self.data.datadate.unique())\n",
        "  \n",
        "            #print(self.data)\n",
        "            actions = actions * HMAX_NORMALIZE\n",
        "            if self.turbulence>=self.turbulence_threshold:\n",
        "                actions=np.array([-HMAX_NORMALIZE]*STOCK_DIM)\n",
        "            self.actions_memory.append(actions)\n",
        "            \n",
        "            #actions = (actions.astype(int))\n",
        "            \n",
        "            begin_total_asset = self.state[0]+ \\\n",
        "            sum(np.array(self.state[1:(STOCK_DIM+1)])*np.array(self.state[(STOCK_DIM+1):(STOCK_DIM*2+1)]))\n",
        "            #print(\"begin_total_asset:{}\".format(begin_total_asset))\n",
        "            \n",
        "            argsort_actions = np.argsort(actions)\n",
        "            #print(argsort_actions)\n",
        "            \n",
        "            sell_index = argsort_actions[:np.where(actions < 0)[0].shape[0]]\n",
        "            buy_index = argsort_actions[::-1][:np.where(actions > 0)[0].shape[0]]\n",
        "\n",
        "            for index in sell_index:\n",
        "                # print('take sell action'.format(actions[index]))\n",
        "                self._sell_stock(index, actions[index])\n",
        "\n",
        "            for index in buy_index:\n",
        "                # print('take buy action: {}'.format(actions[index]))\n",
        "                self._buy_stock(index, actions[index])\n",
        "\n",
        "            self.day += 1\n",
        "            self.data = self.df.loc[self.day,:]         \n",
        "            self.turbulence = self.data['turbulence'].values[0]\n",
        "            #print(self.turbulence)\n",
        "            #load next state\n",
        "            # print(\"stock_shares:{}\".format(self.state[29:]))\n",
        "            self.state =  [self.state[0]] + \\\n",
        "                    self.data.adjcp.values.tolist() + \\\n",
        "                    list(self.state[(STOCK_DIM+1):(STOCK_DIM*2+1)]) + \\\n",
        "                    self.data.macd.values.tolist() + \\\n",
        "                    self.data.rsi.values.tolist() \n",
        "            \n",
        "            end_total_asset = self.state[0]+ \\\n",
        "            sum(np.array(self.state[1:(STOCK_DIM+1)])*np.array(self.state[(STOCK_DIM+1):(STOCK_DIM*2+1)]))\n",
        "            \n",
        "            #print(\"end_total_asset:{}\".format(end_total_asset))\n",
        "            \n",
        "            self.reward = end_total_asset - begin_total_asset  \n",
        "            self.rewards_memory.append(self.reward)\n",
        "            \n",
        "            self.reward = self.reward * REWARD_SCALING\n",
        "            \n",
        "            self.asset_memory.append(end_total_asset)\n",
        "\n",
        "        return self.state, self.reward, self.terminal, {}\n",
        "\n",
        "    def reset(self):  \n",
        "        self.asset_memory = [INITIAL_ACCOUNT_BALANCE]\n",
        "        self.day = 0\n",
        "        self.data = self.df.loc[self.day,:]\n",
        "        self.turbulence = 0\n",
        "        self.cost = 0\n",
        "        self.trades = 0\n",
        "        self.terminal = False \n",
        "        #self.iteration=self.iteration\n",
        "        self.rewards_memory = []\n",
        "        self.actions_memory=[]\n",
        "        self.date_memory=[]\n",
        "        #initiate state\n",
        "        self.state = [INITIAL_ACCOUNT_BALANCE] + \\\n",
        "                      self.data.adjcp.values.tolist() + \\\n",
        "                      [0]*STOCK_DIM + \\\n",
        "                      self.data.macd.values.tolist() + \\\n",
        "                      self.data.rsi.values.tolist() \n",
        "\n",
        "        return self.state\n",
        "    \n",
        "    def render(self, mode='human',close=False):\n",
        "        return self.state\n",
        "    \n",
        "\n",
        "    def _seed(self, seed=None):\n",
        "        self.np_random, seed = seeding.np_random(seed)\n",
        "        return [seed]\n",
        "\n"
      ],
      "execution_count": null,
      "outputs": []
    },
    {
      "cell_type": "markdown",
      "metadata": {
        "id": "HMNR5nHjh1iz"
      },
      "source": [
        "# Part 4: Implement DRL Algorithms\n",
        "The implementation of the DRL algorithms are based on OpenAI Baselines and Stable Baselines. Stable Baselines is a fork of OpenAI Baselines, with a major structural refactoring, and code cleanups."
      ]
    },
    {
      "cell_type": "markdown",
      "metadata": {
        "id": "YDmqOyF9h1iz"
      },
      "source": [
        "## Training data split: 2009-01-01 to 2018-12-31"
      ]
    },
    {
      "cell_type": "code",
      "metadata": {
        "id": "lN3DB4nFh1iz"
      },
      "source": [
        "def data_split(df,start,end):\n",
        "    \"\"\"\n",
        "    split the dataset into training or testing using date\n",
        "    :param data: (df) pandas dataframe, start, end\n",
        "    :return: (df) pandas dataframe\n",
        "    \"\"\"\n",
        "    data = df[(df.datadate >= start) & (df.datadate < end)]\n",
        "    data=data.sort_values(['datadate','tic'],ignore_index=True)\n",
        "    data.index = data.datadate.factorize()[0]\n",
        "    return data"
      ],
      "execution_count": null,
      "outputs": []
    },
    {
      "cell_type": "code",
      "metadata": {
        "id": "UZaEAu0Bh1i4"
      },
      "source": [
        "## set up train & test environment\n",
        "# training env\n",
        "train = data_split(dow_30, start='2009-01-01', end='2019-01-01')\n",
        "env_train = DummyVecEnv([lambda: StockEnvTrain(train)])"
      ],
      "execution_count": null,
      "outputs": []
    },
    {
      "cell_type": "code",
      "metadata": {
        "colab": {
          "base_uri": "https://localhost:8080/",
          "height": 204
        },
        "id": "6bCKAexCh1i7",
        "outputId": "fd217804-51f6-4ca3-fbff-771baeae81f7"
      },
      "source": [
        "train.head()"
      ],
      "execution_count": null,
      "outputs": [
        {
          "output_type": "execute_result",
          "data": {
            "text/html": [
              "<div>\n",
              "<style scoped>\n",
              "    .dataframe tbody tr th:only-of-type {\n",
              "        vertical-align: middle;\n",
              "    }\n",
              "\n",
              "    .dataframe tbody tr th {\n",
              "        vertical-align: top;\n",
              "    }\n",
              "\n",
              "    .dataframe thead th {\n",
              "        text-align: right;\n",
              "    }\n",
              "</style>\n",
              "<table border=\"1\" class=\"dataframe\">\n",
              "  <thead>\n",
              "    <tr style=\"text-align: right;\">\n",
              "      <th></th>\n",
              "      <th>datadate</th>\n",
              "      <th>open</th>\n",
              "      <th>high</th>\n",
              "      <th>low</th>\n",
              "      <th>close</th>\n",
              "      <th>adjcp</th>\n",
              "      <th>volume</th>\n",
              "      <th>tic</th>\n",
              "      <th>macd</th>\n",
              "      <th>rsi</th>\n",
              "      <th>turbulence</th>\n",
              "    </tr>\n",
              "  </thead>\n",
              "  <tbody>\n",
              "    <tr>\n",
              "      <th>0</th>\n",
              "      <td>2009-01-02</td>\n",
              "      <td>3.067143</td>\n",
              "      <td>3.251429</td>\n",
              "      <td>3.041429</td>\n",
              "      <td>3.241071</td>\n",
              "      <td>2.791740</td>\n",
              "      <td>746015200</td>\n",
              "      <td>AAPL</td>\n",
              "      <td>0.0</td>\n",
              "      <td>100.000000</td>\n",
              "      <td>0.0</td>\n",
              "    </tr>\n",
              "    <tr>\n",
              "      <th>0</th>\n",
              "      <td>2009-01-02</td>\n",
              "      <td>18.570000</td>\n",
              "      <td>19.520000</td>\n",
              "      <td>18.400000</td>\n",
              "      <td>19.330000</td>\n",
              "      <td>15.698216</td>\n",
              "      <td>10955700</td>\n",
              "      <td>AXP</td>\n",
              "      <td>0.0</td>\n",
              "      <td>52.253831</td>\n",
              "      <td>0.0</td>\n",
              "    </tr>\n",
              "    <tr>\n",
              "      <th>0</th>\n",
              "      <td>2009-01-02</td>\n",
              "      <td>42.799999</td>\n",
              "      <td>45.560001</td>\n",
              "      <td>42.779999</td>\n",
              "      <td>45.250000</td>\n",
              "      <td>33.941101</td>\n",
              "      <td>7010200</td>\n",
              "      <td>BA</td>\n",
              "      <td>0.0</td>\n",
              "      <td>43.526115</td>\n",
              "      <td>0.0</td>\n",
              "    </tr>\n",
              "    <tr>\n",
              "      <th>0</th>\n",
              "      <td>2009-01-02</td>\n",
              "      <td>44.910000</td>\n",
              "      <td>46.980000</td>\n",
              "      <td>44.709999</td>\n",
              "      <td>46.910000</td>\n",
              "      <td>32.830360</td>\n",
              "      <td>7117200</td>\n",
              "      <td>CAT</td>\n",
              "      <td>0.0</td>\n",
              "      <td>55.913741</td>\n",
              "      <td>0.0</td>\n",
              "    </tr>\n",
              "    <tr>\n",
              "      <th>0</th>\n",
              "      <td>2009-01-02</td>\n",
              "      <td>16.410000</td>\n",
              "      <td>17.000000</td>\n",
              "      <td>16.250000</td>\n",
              "      <td>16.959999</td>\n",
              "      <td>12.592946</td>\n",
              "      <td>40980600</td>\n",
              "      <td>CSCO</td>\n",
              "      <td>0.0</td>\n",
              "      <td>46.050488</td>\n",
              "      <td>0.0</td>\n",
              "    </tr>\n",
              "  </tbody>\n",
              "</table>\n",
              "</div>"
            ],
            "text/plain": [
              "     datadate       open       high  ...  macd         rsi  turbulence\n",
              "0  2009-01-02   3.067143   3.251429  ...   0.0  100.000000         0.0\n",
              "0  2009-01-02  18.570000  19.520000  ...   0.0   52.253831         0.0\n",
              "0  2009-01-02  42.799999  45.560001  ...   0.0   43.526115         0.0\n",
              "0  2009-01-02  44.910000  46.980000  ...   0.0   55.913741         0.0\n",
              "0  2009-01-02  16.410000  17.000000  ...   0.0   46.050488         0.0\n",
              "\n",
              "[5 rows x 11 columns]"
            ]
          },
          "metadata": {
            "tags": []
          },
          "execution_count": 37
        }
      ]
    },
    {
      "cell_type": "code",
      "metadata": {
        "id": "qxuiMdpOh1i-"
      },
      "source": [
        ""
      ],
      "execution_count": null,
      "outputs": []
    },
    {
      "cell_type": "markdown",
      "metadata": {
        "id": "uijiWgkuh1jB"
      },
      "source": [
        "## Model training: DDPG\n"
      ]
    },
    {
      "cell_type": "code",
      "metadata": {
        "colab": {
          "base_uri": "https://localhost:8080/"
        },
        "id": "hp6cU5FZh1jC",
        "scrolled": true,
        "outputId": "39c2637b-8a34-423d-b469-74cafc1f79af"
      },
      "source": [
        "## tensorboard --logdir ./multiple_stock_tensorboard/\n",
        "# add noise to the action in DDPG helps in learning for better exploration\n",
        "n_actions = env_train.action_space.shape[-1]\n",
        "param_noise = None\n",
        "action_noise = OrnsteinUhlenbeckActionNoise(mean=np.zeros(n_actions), sigma=float(0.5) * np.ones(n_actions))\n",
        "\n",
        "# model settings\n",
        "model_ddpg = DDPG('MlpPolicy', \n",
        "                   env_train,\n",
        "                   batch_size=64,\n",
        "                   buffer_size=100000,\n",
        "                   param_noise=param_noise, \n",
        "                   action_noise=action_noise,\n",
        "                   verbose=0, \n",
        "                   tensorboard_log=\"./multiple_stock_tensorboard/\")\n",
        "\n",
        "## 250k timesteps: took about 20 mins to finish\n",
        "model_ddpg.learn(total_timesteps=250000, tb_log_name=\"DDPG_run_1\")"
      ],
      "execution_count": null,
      "outputs": [
        {
          "output_type": "stream",
          "text": [
            "WARNING:tensorflow:From /usr/local/lib/python3.7/dist-packages/stable_baselines/common/tf_util.py:191: The name tf.ConfigProto is deprecated. Please use tf.compat.v1.ConfigProto instead.\n",
            "\n",
            "WARNING:tensorflow:From /usr/local/lib/python3.7/dist-packages/stable_baselines/common/tf_util.py:200: The name tf.Session is deprecated. Please use tf.compat.v1.Session instead.\n",
            "\n",
            "WARNING:tensorflow:From /usr/local/lib/python3.7/dist-packages/stable_baselines/ddpg/ddpg.py:332: The name tf.variable_scope is deprecated. Please use tf.compat.v1.variable_scope instead.\n",
            "\n",
            "WARNING:tensorflow:From /usr/local/lib/python3.7/dist-packages/stable_baselines/common/input.py:25: The name tf.placeholder is deprecated. Please use tf.compat.v1.placeholder instead.\n",
            "\n",
            "WARNING:tensorflow:From /usr/local/lib/python3.7/dist-packages/stable_baselines/ddpg/policies.py:134: flatten (from tensorflow.python.layers.core) is deprecated and will be removed in a future version.\n",
            "Instructions for updating:\n",
            "Use keras.layers.flatten instead.\n",
            "WARNING:tensorflow:From /usr/local/lib/python3.7/dist-packages/tensorflow_core/python/layers/core.py:332: Layer.apply (from tensorflow.python.keras.engine.base_layer) is deprecated and will be removed in a future version.\n",
            "Instructions for updating:\n",
            "Please use `layer.__call__` method instead.\n",
            "WARNING:tensorflow:From /usr/local/lib/python3.7/dist-packages/stable_baselines/ddpg/policies.py:136: dense (from tensorflow.python.layers.core) is deprecated and will be removed in a future version.\n",
            "Instructions for updating:\n",
            "Use keras.layers.Dense instead.\n",
            "WARNING:tensorflow:From /usr/local/lib/python3.7/dist-packages/stable_baselines/ddpg/ddpg.py:412: The name tf.summary.scalar is deprecated. Please use tf.compat.v1.summary.scalar instead.\n",
            "\n",
            "WARNING:tensorflow:From /usr/local/lib/python3.7/dist-packages/stable_baselines/common/tf_util.py:449: The name tf.get_collection is deprecated. Please use tf.compat.v1.get_collection instead.\n",
            "\n",
            "WARNING:tensorflow:From /usr/local/lib/python3.7/dist-packages/stable_baselines/common/tf_util.py:449: The name tf.GraphKeys is deprecated. Please use tf.compat.v1.GraphKeys instead.\n",
            "\n",
            "WARNING:tensorflow:From /usr/local/lib/python3.7/dist-packages/stable_baselines/ddpg/ddpg.py:94: The name tf.assign is deprecated. Please use tf.compat.v1.assign instead.\n",
            "\n",
            "WARNING:tensorflow:From /usr/local/lib/python3.7/dist-packages/tensorflow_core/python/ops/math_grad.py:1424: where (from tensorflow.python.ops.array_ops) is deprecated and will be removed in a future version.\n",
            "Instructions for updating:\n",
            "Use tf.where in 2.0, which has the same broadcast rule as np.where\n",
            "WARNING:tensorflow:From /usr/local/lib/python3.7/dist-packages/stable_baselines/ddpg/ddpg.py:444: The name tf.global_variables is deprecated. Please use tf.compat.v1.global_variables instead.\n",
            "\n",
            "WARNING:tensorflow:From /usr/local/lib/python3.7/dist-packages/stable_baselines/ddpg/ddpg.py:720: The name tf.global_variables_initializer is deprecated. Please use tf.compat.v1.global_variables_initializer instead.\n",
            "\n",
            "WARNING:tensorflow:From /usr/local/lib/python3.7/dist-packages/stable_baselines/common/tf_util.py:432: The name tf.get_default_session is deprecated. Please use tf.compat.v1.get_default_session instead.\n",
            "\n",
            "WARNING:tensorflow:From /usr/local/lib/python3.7/dist-packages/stable_baselines/ddpg/ddpg.py:452: The name tf.summary.merge_all is deprecated. Please use tf.compat.v1.summary.merge_all instead.\n",
            "\n",
            "WARNING:tensorflow:From /usr/local/lib/python3.7/dist-packages/stable_baselines/common/base_class.py:1169: The name tf.summary.FileWriter is deprecated. Please use tf.compat.v1.summary.FileWriter instead.\n",
            "\n",
            "previous_total_asset:1000000\n",
            "end_total_asset:3890770.597898252\n",
            "total_reward:2890770.597898252\n",
            "total_cost:  6267.529123538646\n",
            "total_trades:  43001\n",
            "Sharpe:  1.0788935613710486\n",
            "=================================\n",
            "WARNING:tensorflow:From /usr/local/lib/python3.7/dist-packages/stable_baselines/common/tf_util.py:502: The name tf.Summary is deprecated. Please use tf.compat.v1.Summary instead.\n",
            "\n",
            "previous_total_asset:1000000\n",
            "end_total_asset:4649487.989740601\n",
            "total_reward:3649487.989740601\n",
            "total_cost:  8249.933194262216\n",
            "total_trades:  35787\n",
            "Sharpe:  1.13973769294099\n",
            "=================================\n",
            "previous_total_asset:1000000\n",
            "end_total_asset:3472613.36865667\n",
            "total_reward:2472613.36865667\n",
            "total_cost:  5532.666737750891\n",
            "total_trades:  35314\n",
            "Sharpe:  0.871496253848587\n",
            "=================================\n",
            "previous_total_asset:1000000\n",
            "end_total_asset:4140107.1313377144\n",
            "total_reward:3140107.1313377144\n",
            "total_cost:  3249.967334045073\n",
            "total_trades:  41283\n",
            "Sharpe:  1.0687666220968621\n",
            "=================================\n",
            "previous_total_asset:1000000\n",
            "end_total_asset:3493773.0912536476\n",
            "total_reward:2493773.0912536476\n",
            "total_cost:  3525.592186431846\n",
            "total_trades:  36315\n",
            "Sharpe:  0.9660600836322079\n",
            "=================================\n",
            "previous_total_asset:1000000\n",
            "end_total_asset:3478410.390206153\n",
            "total_reward:2478410.390206153\n",
            "total_cost:  1755.0363283346296\n",
            "total_trades:  37146\n",
            "Sharpe:  0.9548780266325952\n",
            "=================================\n",
            "previous_total_asset:1000000\n",
            "end_total_asset:3692751.058935777\n",
            "total_reward:2692751.058935777\n",
            "total_cost:  3051.6601188291447\n",
            "total_trades:  36152\n",
            "Sharpe:  0.9899158023394533\n",
            "=================================\n",
            "previous_total_asset:1000000\n",
            "end_total_asset:4517570.671321712\n",
            "total_reward:3517570.6713217124\n",
            "total_cost:  3888.5243252012974\n",
            "total_trades:  39349\n",
            "Sharpe:  1.0801596416811081\n",
            "=================================\n",
            "previous_total_asset:1000000\n",
            "end_total_asset:4124588.3046824024\n",
            "total_reward:3124588.3046824024\n",
            "total_cost:  3674.400962779558\n",
            "total_trades:  39662\n",
            "Sharpe:  0.9922764347574448\n",
            "=================================\n",
            "previous_total_asset:1000000\n",
            "end_total_asset:3939210.137996274\n",
            "total_reward:2939210.137996274\n",
            "total_cost:  4896.85536090538\n",
            "total_trades:  37547\n",
            "Sharpe:  1.0048081607766688\n",
            "=================================\n",
            "previous_total_asset:1000000\n",
            "end_total_asset:3282751.7905574315\n",
            "total_reward:2282751.7905574315\n",
            "total_cost:  2803.1108714785046\n",
            "total_trades:  39333\n",
            "Sharpe:  0.8667317630527381\n",
            "=================================\n",
            "previous_total_asset:1000000\n",
            "end_total_asset:2223586.35939869\n",
            "total_reward:1223586.35939869\n",
            "total_cost:  4329.396563173829\n",
            "total_trades:  40155\n",
            "Sharpe:  0.5963365318695524\n",
            "=================================\n",
            "previous_total_asset:1000000\n",
            "end_total_asset:3040705.7667993726\n",
            "total_reward:2040705.7667993726\n",
            "total_cost:  7228.647829846018\n",
            "total_trades:  39848\n",
            "Sharpe:  0.7662207024893238\n",
            "=================================\n",
            "previous_total_asset:1000000\n",
            "end_total_asset:3171804.7090588766\n",
            "total_reward:2171804.7090588766\n",
            "total_cost:  4917.622478428531\n",
            "total_trades:  37437\n",
            "Sharpe:  0.8392464310070965\n",
            "=================================\n",
            "previous_total_asset:1000000\n",
            "end_total_asset:3254905.653160584\n",
            "total_reward:2254905.653160584\n",
            "total_cost:  3559.256032813565\n",
            "total_trades:  42410\n",
            "Sharpe:  0.8742565907238924\n",
            "=================================\n",
            "previous_total_asset:1000000\n",
            "end_total_asset:3393051.997419934\n",
            "total_reward:2393051.997419934\n",
            "total_cost:  4283.098108509546\n",
            "total_trades:  38595\n",
            "Sharpe:  0.938591740427092\n",
            "=================================\n",
            "previous_total_asset:1000000\n",
            "end_total_asset:3997562.5277693924\n",
            "total_reward:2997562.5277693924\n",
            "total_cost:  6504.050460738184\n",
            "total_trades:  39725\n",
            "Sharpe:  0.9858215129826065\n",
            "=================================\n",
            "previous_total_asset:1000000\n",
            "end_total_asset:2733857.244222788\n",
            "total_reward:1733857.2442227881\n",
            "total_cost:  4073.9530213975045\n",
            "total_trades:  38075\n",
            "Sharpe:  0.7845474492540592\n",
            "=================================\n",
            "previous_total_asset:1000000\n",
            "end_total_asset:3530414.853722032\n",
            "total_reward:2530414.853722032\n",
            "total_cost:  5455.974834854663\n",
            "total_trades:  43841\n",
            "Sharpe:  0.9928676177601835\n",
            "=================================\n",
            "previous_total_asset:1000000\n",
            "end_total_asset:3584954.7034356673\n",
            "total_reward:2584954.7034356673\n",
            "total_cost:  3569.289329158702\n",
            "total_trades:  40767\n",
            "Sharpe:  0.9783636431615127\n",
            "=================================\n",
            "previous_total_asset:1000000\n",
            "end_total_asset:4124053.031762147\n",
            "total_reward:3124053.031762147\n",
            "total_cost:  6411.345540846038\n",
            "total_trades:  36863\n",
            "Sharpe:  1.0801457520293294\n",
            "=================================\n",
            "previous_total_asset:1000000\n",
            "end_total_asset:3319405.061025466\n",
            "total_reward:2319405.061025466\n",
            "total_cost:  4936.865572786118\n",
            "total_trades:  44153\n",
            "Sharpe:  0.9384791058649998\n",
            "=================================\n",
            "previous_total_asset:1000000\n",
            "end_total_asset:3567163.0417584316\n",
            "total_reward:2567163.0417584316\n",
            "total_cost:  4410.680514077903\n",
            "total_trades:  39877\n",
            "Sharpe:  1.0015228048663165\n",
            "=================================\n",
            "previous_total_asset:1000000\n",
            "end_total_asset:2530783.207414277\n",
            "total_reward:1530783.207414277\n",
            "total_cost:  7784.68677172507\n",
            "total_trades:  39748\n",
            "Sharpe:  0.7139939580035026\n",
            "=================================\n",
            "previous_total_asset:1000000\n",
            "end_total_asset:2993829.2273127018\n",
            "total_reward:1993829.2273127018\n",
            "total_cost:  5397.062546161442\n",
            "total_trades:  35675\n",
            "Sharpe:  0.872965307711916\n",
            "=================================\n",
            "previous_total_asset:1000000\n",
            "end_total_asset:4179484.6488036485\n",
            "total_reward:3179484.6488036485\n",
            "total_cost:  9714.046483368757\n",
            "total_trades:  33151\n",
            "Sharpe:  1.105731277672724\n",
            "=================================\n",
            "previous_total_asset:1000000\n",
            "end_total_asset:3378893.655103289\n",
            "total_reward:2378893.655103289\n",
            "total_cost:  8224.743574466109\n",
            "total_trades:  36635\n",
            "Sharpe:  0.9389088431074163\n",
            "=================================\n",
            "previous_total_asset:1000000\n",
            "end_total_asset:3641174.011531333\n",
            "total_reward:2641174.011531333\n",
            "total_cost:  6420.521061161692\n",
            "total_trades:  40332\n",
            "Sharpe:  1.0034422457741639\n",
            "=================================\n",
            "previous_total_asset:1000000\n",
            "end_total_asset:3636408.249305576\n",
            "total_reward:2636408.249305576\n",
            "total_cost:  8292.580490284246\n",
            "total_trades:  36445\n",
            "Sharpe:  0.9608892595756456\n",
            "=================================\n",
            "previous_total_asset:1000000\n",
            "end_total_asset:3529946.950665811\n",
            "total_reward:2529946.950665811\n",
            "total_cost:  5472.40948277737\n",
            "total_trades:  32451\n",
            "Sharpe:  0.9494527365079356\n",
            "=================================\n",
            "previous_total_asset:1000000\n",
            "end_total_asset:3280991.8439136287\n",
            "total_reward:2280991.8439136287\n",
            "total_cost:  10476.030683108811\n",
            "total_trades:  38797\n",
            "Sharpe:  0.9225550905865761\n",
            "=================================\n",
            "previous_total_asset:1000000\n",
            "end_total_asset:4311322.997356987\n",
            "total_reward:3311322.9973569866\n",
            "total_cost:  7534.747300961039\n",
            "total_trades:  37540\n",
            "Sharpe:  0.9944079911264353\n",
            "=================================\n",
            "previous_total_asset:1000000\n",
            "end_total_asset:2980678.291559357\n",
            "total_reward:1980678.2915593572\n",
            "total_cost:  4468.866122298734\n",
            "total_trades:  35836\n",
            "Sharpe:  0.8030948793307027\n",
            "=================================\n",
            "previous_total_asset:1000000\n",
            "end_total_asset:3003660.585731004\n",
            "total_reward:2003660.585731004\n",
            "total_cost:  7999.357748545102\n",
            "total_trades:  37969\n",
            "Sharpe:  0.8115689457281978\n",
            "=================================\n",
            "previous_total_asset:1000000\n",
            "end_total_asset:3875738.8888099897\n",
            "total_reward:2875738.8888099897\n",
            "total_cost:  8255.846685364062\n",
            "total_trades:  36406\n",
            "Sharpe:  1.004912324545494\n",
            "=================================\n",
            "previous_total_asset:1000000\n",
            "end_total_asset:2791741.239143769\n",
            "total_reward:1791741.2391437688\n",
            "total_cost:  5290.749348471676\n",
            "total_trades:  33541\n",
            "Sharpe:  0.7933128965255323\n",
            "=================================\n",
            "previous_total_asset:1000000\n",
            "end_total_asset:3289248.0765644577\n",
            "total_reward:2289248.0765644577\n",
            "total_cost:  8106.054033269705\n",
            "total_trades:  41109\n",
            "Sharpe:  0.9417215581492688\n",
            "=================================\n",
            "previous_total_asset:1000000\n",
            "end_total_asset:4362515.585860263\n",
            "total_reward:3362515.5858602626\n",
            "total_cost:  13555.678095370213\n",
            "total_trades:  37839\n",
            "Sharpe:  1.1293879572326986\n",
            "=================================\n",
            "previous_total_asset:1000000\n",
            "end_total_asset:3769582.2947737793\n",
            "total_reward:2769582.2947737793\n",
            "total_cost:  6208.544970362115\n",
            "total_trades:  39030\n",
            "Sharpe:  1.0406795890750158\n",
            "=================================\n",
            "previous_total_asset:1000000\n",
            "end_total_asset:3962351.4255970106\n",
            "total_reward:2962351.4255970106\n",
            "total_cost:  7283.524395670816\n",
            "total_trades:  40927\n",
            "Sharpe:  1.031083277412288\n",
            "=================================\n",
            "previous_total_asset:1000000\n",
            "end_total_asset:3347683.301719732\n",
            "total_reward:2347683.301719732\n",
            "total_cost:  4898.247754406181\n",
            "total_trades:  35656\n",
            "Sharpe:  0.972017749036302\n",
            "=================================\n",
            "previous_total_asset:1000000\n",
            "end_total_asset:3456523.3983148686\n",
            "total_reward:2456523.3983148686\n",
            "total_cost:  6803.791700681149\n",
            "total_trades:  36882\n",
            "Sharpe:  0.9632446735588579\n",
            "=================================\n",
            "previous_total_asset:1000000\n",
            "end_total_asset:4931931.447734305\n",
            "total_reward:3931931.4477343047\n",
            "total_cost:  9521.138358886059\n",
            "total_trades:  34219\n",
            "Sharpe:  1.0914572930210218\n",
            "=================================\n",
            "previous_total_asset:1000000\n",
            "end_total_asset:3864146.614200254\n",
            "total_reward:2864146.614200254\n",
            "total_cost:  6478.998696188653\n",
            "total_trades:  33834\n",
            "Sharpe:  1.0638417525915476\n",
            "=================================\n",
            "previous_total_asset:1000000\n",
            "end_total_asset:3623048.085445465\n",
            "total_reward:2623048.085445465\n",
            "total_cost:  5873.12776560354\n",
            "total_trades:  37985\n",
            "Sharpe:  1.0360998597358981\n",
            "=================================\n",
            "previous_total_asset:1000000\n",
            "end_total_asset:3933898.389869381\n",
            "total_reward:2933898.389869381\n",
            "total_cost:  6802.378864208332\n",
            "total_trades:  42297\n",
            "Sharpe:  1.111059529062283\n",
            "=================================\n",
            "previous_total_asset:1000000\n",
            "end_total_asset:4109786.6951395315\n",
            "total_reward:3109786.6951395315\n",
            "total_cost:  11870.016603386315\n",
            "total_trades:  47688\n",
            "Sharpe:  1.0812240974230445\n",
            "=================================\n",
            "previous_total_asset:1000000\n",
            "end_total_asset:3941744.2138427254\n",
            "total_reward:2941744.2138427254\n",
            "total_cost:  10865.986253998268\n",
            "total_trades:  46536\n",
            "Sharpe:  1.0222024676626749\n",
            "=================================\n",
            "previous_total_asset:1000000\n",
            "end_total_asset:4569788.512862155\n",
            "total_reward:3569788.512862155\n",
            "total_cost:  8883.343022334493\n",
            "total_trades:  43763\n",
            "Sharpe:  1.1255291851686793\n",
            "=================================\n",
            "previous_total_asset:1000000\n",
            "end_total_asset:3489254.0889584627\n",
            "total_reward:2489254.0889584627\n",
            "total_cost:  5280.317544426912\n",
            "total_trades:  44173\n",
            "Sharpe:  0.9691904714799269\n",
            "=================================\n",
            "previous_total_asset:1000000\n",
            "end_total_asset:2937904.3510291367\n",
            "total_reward:1937904.3510291367\n",
            "total_cost:  7860.737764506655\n",
            "total_trades:  39634\n",
            "Sharpe:  0.8215696201505551\n",
            "=================================\n",
            "previous_total_asset:1000000\n",
            "end_total_asset:4346539.410363096\n",
            "total_reward:3346539.410363096\n",
            "total_cost:  14999.513600225177\n",
            "total_trades:  40743\n",
            "Sharpe:  1.0768753673585598\n",
            "=================================\n",
            "previous_total_asset:1000000\n",
            "end_total_asset:3806683.7590113855\n",
            "total_reward:2806683.7590113855\n",
            "total_cost:  10623.822120272001\n",
            "total_trades:  44026\n",
            "Sharpe:  1.0793085599230126\n",
            "=================================\n",
            "previous_total_asset:1000000\n",
            "end_total_asset:2726716.637826786\n",
            "total_reward:1726716.637826786\n",
            "total_cost:  8307.235385939473\n",
            "total_trades:  42986\n",
            "Sharpe:  0.8321238992979495\n",
            "=================================\n",
            "previous_total_asset:1000000\n",
            "end_total_asset:3927557.9866716512\n",
            "total_reward:2927557.9866716512\n",
            "total_cost:  11059.991898655315\n",
            "total_trades:  39636\n",
            "Sharpe:  1.0584933167201347\n",
            "=================================\n",
            "previous_total_asset:1000000\n",
            "end_total_asset:2522294.4220965994\n",
            "total_reward:1522294.4220965994\n",
            "total_cost:  5795.825081638186\n",
            "total_trades:  37814\n",
            "Sharpe:  0.7065509469084363\n",
            "=================================\n",
            "previous_total_asset:1000000\n",
            "end_total_asset:3841147.475997853\n",
            "total_reward:2841147.475997853\n",
            "total_cost:  12430.19300016016\n",
            "total_trades:  37569\n",
            "Sharpe:  0.9805479114511206\n",
            "=================================\n",
            "previous_total_asset:1000000\n",
            "end_total_asset:3472149.687396867\n",
            "total_reward:2472149.687396867\n",
            "total_cost:  12583.838465055562\n",
            "total_trades:  37909\n",
            "Sharpe:  0.8817271973550106\n",
            "=================================\n",
            "previous_total_asset:1000000\n",
            "end_total_asset:2792168.8218730483\n",
            "total_reward:1792168.8218730483\n",
            "total_cost:  11428.36738552061\n",
            "total_trades:  33831\n",
            "Sharpe:  0.7873467394185998\n",
            "=================================\n",
            "previous_total_asset:1000000\n",
            "end_total_asset:3485601.709387725\n",
            "total_reward:2485601.709387725\n",
            "total_cost:  14871.556405572603\n",
            "total_trades:  36141\n",
            "Sharpe:  0.8846530763747684\n",
            "=================================\n",
            "previous_total_asset:1000000\n",
            "end_total_asset:3864091.806176601\n",
            "total_reward:2864091.806176601\n",
            "total_cost:  18049.797706531856\n",
            "total_trades:  38632\n",
            "Sharpe:  0.9523703326238205\n",
            "=================================\n",
            "previous_total_asset:1000000\n",
            "end_total_asset:2770014.9418529617\n",
            "total_reward:1770014.9418529617\n",
            "total_cost:  9947.540066391995\n",
            "total_trades:  37532\n",
            "Sharpe:  0.8099685174074214\n",
            "=================================\n",
            "previous_total_asset:1000000\n",
            "end_total_asset:2865970.686481293\n",
            "total_reward:1865970.6864812928\n",
            "total_cost:  14257.386090333683\n",
            "total_trades:  42607\n",
            "Sharpe:  0.7771965925466587\n",
            "=================================\n",
            "previous_total_asset:1000000\n",
            "end_total_asset:3936010.1908479463\n",
            "total_reward:2936010.1908479463\n",
            "total_cost:  13810.254181515158\n",
            "total_trades:  38231\n",
            "Sharpe:  0.9968769533797958\n",
            "=================================\n",
            "previous_total_asset:1000000\n",
            "end_total_asset:3687957.614004282\n",
            "total_reward:2687957.614004282\n",
            "total_cost:  15954.370661141098\n",
            "total_trades:  43092\n",
            "Sharpe:  0.8885713101930874\n",
            "=================================\n",
            "previous_total_asset:1000000\n",
            "end_total_asset:3761698.639756594\n",
            "total_reward:2761698.639756594\n",
            "total_cost:  17485.21438149984\n",
            "total_trades:  44007\n",
            "Sharpe:  0.888781858700319\n",
            "=================================\n",
            "previous_total_asset:1000000\n",
            "end_total_asset:3405034.407887734\n",
            "total_reward:2405034.407887734\n",
            "total_cost:  30200.430257194395\n",
            "total_trades:  41325\n",
            "Sharpe:  0.9598988176493171\n",
            "=================================\n",
            "previous_total_asset:1000000\n",
            "end_total_asset:4573084.0216447795\n",
            "total_reward:3573084.0216447795\n",
            "total_cost:  31264.16455038951\n",
            "total_trades:  33596\n",
            "Sharpe:  1.0976345825014062\n",
            "=================================\n",
            "previous_total_asset:1000000\n",
            "end_total_asset:6876505.890238631\n",
            "total_reward:5876505.890238631\n",
            "total_cost:  47845.616560166796\n",
            "total_trades:  37444\n",
            "Sharpe:  1.293149258040688\n",
            "=================================\n",
            "previous_total_asset:1000000\n",
            "end_total_asset:3297575.9015433704\n",
            "total_reward:2297575.9015433704\n",
            "total_cost:  18900.636916235762\n",
            "total_trades:  37834\n",
            "Sharpe:  0.9201265617876544\n",
            "=================================\n",
            "previous_total_asset:1000000\n",
            "end_total_asset:3465612.1655842406\n",
            "total_reward:2465612.1655842406\n",
            "total_cost:  13573.444453203974\n",
            "total_trades:  41115\n",
            "Sharpe:  0.9462936618725317\n",
            "=================================\n",
            "previous_total_asset:1000000\n",
            "end_total_asset:4391283.054819939\n",
            "total_reward:3391283.0548199387\n",
            "total_cost:  10547.909781760118\n",
            "total_trades:  38875\n",
            "Sharpe:  1.0601852901281912\n",
            "=================================\n",
            "previous_total_asset:1000000\n",
            "end_total_asset:2992228.1612541466\n",
            "total_reward:1992228.1612541466\n",
            "total_cost:  6213.500341785985\n",
            "total_trades:  37199\n",
            "Sharpe:  0.8882304667422382\n",
            "=================================\n",
            "previous_total_asset:1000000\n",
            "end_total_asset:4005357.2945017423\n",
            "total_reward:3005357.2945017423\n",
            "total_cost:  9061.89692287088\n",
            "total_trades:  42164\n",
            "Sharpe:  1.0176621077978742\n",
            "=================================\n",
            "previous_total_asset:1000000\n",
            "end_total_asset:4372228.387680161\n",
            "total_reward:3372228.387680161\n",
            "total_cost:  18003.938537760183\n",
            "total_trades:  38938\n",
            "Sharpe:  1.090688758011631\n",
            "=================================\n",
            "previous_total_asset:1000000\n",
            "end_total_asset:2911568.6642213375\n",
            "total_reward:1911568.6642213375\n",
            "total_cost:  10967.439995367935\n",
            "total_trades:  40349\n",
            "Sharpe:  0.8504590874860385\n",
            "=================================\n",
            "previous_total_asset:1000000\n",
            "end_total_asset:4929951.119958278\n",
            "total_reward:3929951.119958278\n",
            "total_cost:  10613.671326452017\n",
            "total_trades:  36954\n",
            "Sharpe:  1.1476601235181685\n",
            "=================================\n",
            "previous_total_asset:1000000\n",
            "end_total_asset:3509803.580618375\n",
            "total_reward:2509803.580618375\n",
            "total_cost:  11966.44765512382\n",
            "total_trades:  40469\n",
            "Sharpe:  0.9551078735159011\n",
            "=================================\n",
            "previous_total_asset:1000000\n",
            "end_total_asset:3839914.1641680915\n",
            "total_reward:2839914.1641680915\n",
            "total_cost:  16078.228543804127\n",
            "total_trades:  40121\n",
            "Sharpe:  1.095014909334077\n",
            "=================================\n",
            "previous_total_asset:1000000\n",
            "end_total_asset:2928920.621788482\n",
            "total_reward:1928920.6217884822\n",
            "total_cost:  11483.362995726586\n",
            "total_trades:  41254\n",
            "Sharpe:  0.8381847755663633\n",
            "=================================\n",
            "previous_total_asset:1000000\n",
            "end_total_asset:3982835.854785613\n",
            "total_reward:2982835.854785613\n",
            "total_cost:  11467.032777690707\n",
            "total_trades:  38113\n",
            "Sharpe:  1.096921325449244\n",
            "=================================\n",
            "previous_total_asset:1000000\n",
            "end_total_asset:2968667.9191083754\n",
            "total_reward:1968667.9191083754\n",
            "total_cost:  14892.187428762141\n",
            "total_trades:  38411\n",
            "Sharpe:  0.8384744058569925\n",
            "=================================\n",
            "previous_total_asset:1000000\n",
            "end_total_asset:3410532.6384093654\n",
            "total_reward:2410532.6384093654\n",
            "total_cost:  13191.130276021393\n",
            "total_trades:  41826\n",
            "Sharpe:  0.9394202334027476\n",
            "=================================\n",
            "previous_total_asset:1000000\n",
            "end_total_asset:3340754.3303289446\n",
            "total_reward:2340754.3303289446\n",
            "total_cost:  15534.250710837161\n",
            "total_trades:  40211\n",
            "Sharpe:  0.8593660942976256\n",
            "=================================\n",
            "previous_total_asset:1000000\n",
            "end_total_asset:3814514.537934435\n",
            "total_reward:2814514.537934435\n",
            "total_cost:  24019.772786127527\n",
            "total_trades:  39331\n",
            "Sharpe:  0.9222099604966226\n",
            "=================================\n",
            "previous_total_asset:1000000\n",
            "end_total_asset:4133936.6652719\n",
            "total_reward:3133936.6652719\n",
            "total_cost:  25339.313393541124\n",
            "total_trades:  37403\n",
            "Sharpe:  1.034063309261856\n",
            "=================================\n",
            "previous_total_asset:1000000\n",
            "end_total_asset:4089097.6998737026\n",
            "total_reward:3089097.6998737026\n",
            "total_cost:  18501.534673522452\n",
            "total_trades:  38961\n",
            "Sharpe:  0.9542747556041237\n",
            "=================================\n",
            "previous_total_asset:1000000\n",
            "end_total_asset:4981640.775043531\n",
            "total_reward:3981640.7750435313\n",
            "total_cost:  13584.41235476309\n",
            "total_trades:  40121\n",
            "Sharpe:  1.0909904310189755\n",
            "=================================\n",
            "previous_total_asset:1000000\n",
            "end_total_asset:4557087.549731929\n",
            "total_reward:3557087.549731929\n",
            "total_cost:  14340.099318338665\n",
            "total_trades:  36752\n",
            "Sharpe:  0.9759739061746553\n",
            "=================================\n",
            "previous_total_asset:1000000\n",
            "end_total_asset:4096983.695816438\n",
            "total_reward:3096983.695816438\n",
            "total_cost:  18052.583980669624\n",
            "total_trades:  37497\n",
            "Sharpe:  1.0028268495821957\n",
            "=================================\n",
            "previous_total_asset:1000000\n",
            "end_total_asset:4441918.569156323\n",
            "total_reward:3441918.5691563226\n",
            "total_cost:  20394.862759134357\n",
            "total_trades:  40873\n",
            "Sharpe:  1.0315489492542156\n",
            "=================================\n",
            "previous_total_asset:1000000\n",
            "end_total_asset:3317967.47940191\n",
            "total_reward:2317967.47940191\n",
            "total_cost:  16299.604787203216\n",
            "total_trades:  41592\n",
            "Sharpe:  0.8861683956924856\n",
            "=================================\n",
            "previous_total_asset:1000000\n",
            "end_total_asset:2964773.4047046117\n",
            "total_reward:1964773.4047046117\n",
            "total_cost:  12064.860580736291\n",
            "total_trades:  35035\n",
            "Sharpe:  0.8236941812168709\n",
            "=================================\n",
            "previous_total_asset:1000000\n",
            "end_total_asset:4005157.442854869\n",
            "total_reward:3005157.442854869\n",
            "total_cost:  23086.460394793357\n",
            "total_trades:  38098\n",
            "Sharpe:  0.9022374371032965\n",
            "=================================\n",
            "previous_total_asset:1000000\n",
            "end_total_asset:4643653.392109408\n",
            "total_reward:3643653.392109408\n",
            "total_cost:  25565.155828660627\n",
            "total_trades:  40160\n",
            "Sharpe:  0.9568092633920106\n",
            "=================================\n",
            "previous_total_asset:1000000\n",
            "end_total_asset:4324145.647680936\n",
            "total_reward:3324145.6476809364\n",
            "total_cost:  20097.534461895553\n",
            "total_trades:  39131\n",
            "Sharpe:  0.928537628635404\n",
            "=================================\n",
            "previous_total_asset:1000000\n",
            "end_total_asset:4546524.436434772\n",
            "total_reward:3546524.436434772\n",
            "total_cost:  23274.799457120764\n",
            "total_trades:  44709\n",
            "Sharpe:  0.9629910138523085\n",
            "=================================\n",
            "previous_total_asset:1000000\n",
            "end_total_asset:4450100.569888838\n",
            "total_reward:3450100.5698888376\n",
            "total_cost:  15845.748449258374\n",
            "total_trades:  40562\n",
            "Sharpe:  1.0429182027493133\n",
            "=================================\n",
            "previous_total_asset:1000000\n",
            "end_total_asset:3365196.1690193596\n",
            "total_reward:2365196.1690193596\n",
            "total_cost:  16007.646112345219\n",
            "total_trades:  37756\n",
            "Sharpe:  0.9001586933289025\n",
            "=================================\n"
          ],
          "name": "stdout"
        },
        {
          "output_type": "execute_result",
          "data": {
            "text/plain": [
              "<stable_baselines.ddpg.ddpg.DDPG at 0x7f356a9ef7d0>"
            ]
          },
          "metadata": {
            "tags": []
          },
          "execution_count": 38
        }
      ]
    },
    {
      "cell_type": "markdown",
      "metadata": {
        "id": "f2wZgkQXh1jE"
      },
      "source": [
        "## Trading\n",
        "Assume that we have $1,000,000 initial capital at 2019-01-01. We use the DDPG model to trade Dow jones 30 stocks."
      ]
    },
    {
      "cell_type": "markdown",
      "metadata": {
        "id": "bEv5KGC8h1jE"
      },
      "source": [
        "### Set turbulence threshold\n",
        "Set the turbulence threshold to be the 99% quantile of insample turbulence data, if current turbulence index is greater than the threshold, then we assume that the current market is volatile"
      ]
    },
    {
      "cell_type": "code",
      "metadata": {
        "id": "efwBi84ch1jE"
      },
      "source": [
        "insample_turbulence = dow_30[(dow_30.datadate<'2019-01-01') & (dow_30.datadate>='2009-01-01')]\n",
        "insample_turbulence = insample_turbulence.drop_duplicates(subset=['datadate'])"
      ],
      "execution_count": null,
      "outputs": []
    },
    {
      "cell_type": "code",
      "metadata": {
        "colab": {
          "base_uri": "https://localhost:8080/"
        },
        "id": "VHZMBpSqh1jG",
        "outputId": "a320a498-adfb-4721-f11f-d145f167a25c"
      },
      "source": [
        "insample_turbulence.turbulence.describe()"
      ],
      "execution_count": null,
      "outputs": [
        {
          "output_type": "execute_result",
          "data": {
            "text/plain": [
              "count    2516.000000\n",
              "mean       75.640435\n",
              "std        38.080113\n",
              "min         0.000000\n",
              "25%        57.679692\n",
              "50%        73.761992\n",
              "75%        96.881053\n",
              "max       230.853808\n",
              "Name: turbulence, dtype: float64"
            ]
          },
          "metadata": {
            "tags": []
          },
          "execution_count": 41
        }
      ]
    },
    {
      "cell_type": "code",
      "metadata": {
        "id": "yuwDPkV9h1jL"
      },
      "source": [
        "insample_turbulence_threshold = np.quantile(insample_turbulence.turbulence.values, 0.99)"
      ],
      "execution_count": null,
      "outputs": []
    },
    {
      "cell_type": "code",
      "metadata": {
        "colab": {
          "base_uri": "https://localhost:8080/"
        },
        "id": "wwoz_7VSh1jO",
        "outputId": "15f18da1-22d9-4e44-ab96-39660d9f3b22"
      },
      "source": [
        "insample_turbulence_threshold"
      ],
      "execution_count": null,
      "outputs": [
        {
          "output_type": "execute_result",
          "data": {
            "text/plain": [
              "176.54281876102138"
            ]
          },
          "metadata": {
            "tags": []
          },
          "execution_count": 43
        }
      ]
    },
    {
      "cell_type": "markdown",
      "metadata": {
        "id": "U5mmgQF_h1jQ"
      },
      "source": [
        "### Prepare test data and environment"
      ]
    },
    {
      "cell_type": "code",
      "metadata": {
        "id": "eLOnL5eYh1jR"
      },
      "source": [
        "# test data\n",
        "test = data_split(dow_30, start='2019-01-01', end='2020-10-30')\n",
        "# testing env\n",
        "env_test = DummyVecEnv([lambda: StockEnvTrade(test, turbulence_threshold=insample_turbulence_threshold)])\n",
        "obs_test = env_test.reset()"
      ],
      "execution_count": null,
      "outputs": []
    },
    {
      "cell_type": "markdown",
      "metadata": {
        "id": "8i1AF6DMh1jU"
      },
      "source": [
        "### Prediction "
      ]
    },
    {
      "cell_type": "code",
      "metadata": {
        "id": "aRwQ84Zch1jU"
      },
      "source": [
        "def DRL_prediction(model, data, env, obs):\n",
        "    print(\"==============Model Prediction===========\")\n",
        "    for i in range(len(data.index.unique())):\n",
        "        action, _states = model.predict(obs)\n",
        "        obs, rewards, dones, info = env.step(action)\n",
        "        env.render()"
      ],
      "execution_count": null,
      "outputs": []
    },
    {
      "cell_type": "code",
      "metadata": {
        "colab": {
          "base_uri": "https://localhost:8080/"
        },
        "id": "2swWs0ybh1jX",
        "outputId": "04c926fb-68ff-42db-d7a5-aa0d473eb127"
      },
      "source": [
        "DRL_prediction(model=model_ddpg, \n",
        "               data=test,\n",
        "               env=env_test, \n",
        "               obs=obs_test)"
      ],
      "execution_count": null,
      "outputs": [
        {
          "output_type": "stream",
          "text": [
            "==============Model Prediction===========\n",
            "previous_total_asset:1000000\n",
            "end_total_asset:1230375.5393961542\n",
            "total_reward:230375.53939615423\n",
            "total_cost:  28420.37694099523\n",
            "total trades:  6371\n",
            "Sharpe:  0.7828021809100931\n"
          ],
          "name": "stdout"
        }
      ]
    },
    {
      "cell_type": "markdown",
      "metadata": {
        "id": "W6vvNSC6h1jZ"
      },
      "source": [
        "# Part 5: Backtest Our Strategy\n",
        "For simplicity purposes, in the article, we just calculate the Sharpe ratio and the annual return manually."
      ]
    },
    {
      "cell_type": "code",
      "metadata": {
        "id": "poLh4vV4h1jZ"
      },
      "source": [
        "def backtest_strat(df):\n",
        "    strategy_ret= df.copy()\n",
        "    strategy_ret['Date'] = pd.to_datetime(strategy_ret['Date'])\n",
        "    strategy_ret.set_index('Date', drop = False, inplace = True)\n",
        "    strategy_ret.index = strategy_ret.index.tz_localize('UTC')\n",
        "    del strategy_ret['Date']\n",
        "    ts = pd.Series(strategy_ret['daily_return'].values, index=strategy_ret.index)\n",
        "    return ts"
      ],
      "execution_count": null,
      "outputs": []
    },
    {
      "cell_type": "markdown",
      "metadata": {
        "id": "9U6Suru3h1jc"
      },
      "source": [
        "## Dow Jones Industrial Average\n"
      ]
    },
    {
      "cell_type": "code",
      "metadata": {
        "colab": {
          "base_uri": "https://localhost:8080/"
        },
        "id": "YktexHcqh1jc",
        "outputId": "8413c8fa-953c-4adb-cac0-bd39a7bdcc52"
      },
      "source": [
        "dji = yf.download(\"^DJI\", start=\"2019-01-01\", end=\"2020-10-30\")\n",
        "dji=dji.reset_index()\n",
        "dji.columns = ['Date', 'Open', 'High', 'Low', 'Close', 'adjcp', 'Volume']"
      ],
      "execution_count": null,
      "outputs": [
        {
          "output_type": "stream",
          "text": [
            "\r[*********************100%***********************]  1 of 1 completed\n"
          ],
          "name": "stdout"
        }
      ]
    },
    {
      "cell_type": "code",
      "metadata": {
        "id": "t9y9KO42h1je"
      },
      "source": [
        "def get_buy_and_hold_sharpe(test):\n",
        "    test['daily_return']=test['adjcp'].pct_change(1)\n",
        "    sharpe = (252**0.5)*test['daily_return'].mean()/ \\\n",
        "    test['daily_return'].std()\n",
        "    annual_return = ((test['daily_return'].mean()+1)**252-1)*100\n",
        "    print(\"annual return: \", annual_return)\n",
        "\n",
        "    print(\"sharpe ratio: \", sharpe)\n",
        "    #return sharpe"
      ],
      "execution_count": null,
      "outputs": []
    },
    {
      "cell_type": "code",
      "metadata": {
        "colab": {
          "base_uri": "https://localhost:8080/"
        },
        "id": "QVj2d0KCh1jh",
        "outputId": "00ebcb96-0251-45b7-b9b6-0cb94a04ac9e"
      },
      "source": [
        "## get manual results\n",
        "get_buy_and_hold_sharpe(dji)"
      ],
      "execution_count": null,
      "outputs": [
        {
          "output_type": "stream",
          "text": [
            "annual return:  11.960203793072232\n",
            "sharpe ratio:  0.39868697408245407\n"
          ],
          "name": "stdout"
        }
      ]
    },
    {
      "cell_type": "code",
      "metadata": {
        "id": "VVS68MGqh1jk"
      },
      "source": [
        "dji['daily_return']=dji['adjcp'].pct_change(1)"
      ],
      "execution_count": null,
      "outputs": []
    },
    {
      "cell_type": "code",
      "metadata": {
        "id": "MW4fSXm_h1jn"
      },
      "source": [
        "# input for pyfolio\n",
        "dow_strat = backtest_strat(dji)"
      ],
      "execution_count": null,
      "outputs": []
    },
    {
      "cell_type": "markdown",
      "metadata": {
        "id": "mg3F7457h1jr"
      },
      "source": [
        "## Our DRL trading strategy"
      ]
    },
    {
      "cell_type": "code",
      "metadata": {
        "id": "zp0f60nrh1js"
      },
      "source": [
        "def get_daily_return(df):\n",
        "    df['daily_return']=df.account_value.pct_change(1)\n",
        "    #df=df.dropna()\n",
        "    sharpe = (252**0.5)*df['daily_return'].mean()/ \\\n",
        "    df['daily_return'].std()\n",
        "    \n",
        "    annual_return = ((df['daily_return'].mean()+1)**252-1)*100\n",
        "    print(\"annual return: \", annual_return)\n",
        "    print(\"sharpe ratio: \", sharpe)    \n",
        "    return df"
      ],
      "execution_count": null,
      "outputs": []
    },
    {
      "cell_type": "code",
      "metadata": {
        "id": "UnU9qA0Wh1ju"
      },
      "source": [
        "## load results\n",
        "df_account_value = pd.read_csv('account_value_trade.csv',index_col=0)\n",
        "df_account_value = pd.DataFrame({'account_value':df_account_value['0']})\n"
      ],
      "execution_count": null,
      "outputs": []
    },
    {
      "cell_type": "code",
      "metadata": {
        "colab": {
          "base_uri": "https://localhost:8080/"
        },
        "id": "Ub1ONkJ9h1jy",
        "outputId": "99508e93-6683-4070-dc68-a44e92dd2fb3"
      },
      "source": [
        "## get manual results\n",
        "df_account_value=get_daily_return(df_account_value)"
      ],
      "execution_count": null,
      "outputs": [
        {
          "output_type": "stream",
          "text": [
            "annual return:  13.656790897758775\n",
            "sharpe ratio:  0.7828021809100957\n"
          ],
          "name": "stdout"
        }
      ]
    },
    {
      "cell_type": "code",
      "metadata": {
        "id": "90mCnh-fh1j1"
      },
      "source": [
        "# input for pyfolio\n",
        "df_account_value['Date'] = dji['Date']\n",
        "DRL_strat = backtest_strat(df_account_value)"
      ],
      "execution_count": null,
      "outputs": []
    },
    {
      "cell_type": "markdown",
      "metadata": {
        "id": "zdyVEkLKuDd-"
      },
      "source": [
        "## Plot the results using Quantopian pyfolio\n",
        "\n",
        "> Indented block\n",
        "\n",
        "\n",
        "Backtesting plays a key role in evaluating the performance of a trading strategy. Automated backtesting tool is preferred because it reduces the human error. We usually use the Quantopian pyfolio package to backtest our trading strategies. It is easy to use and consists of various individual plots that provide a comprehensive image of the performance of a trading strategy."
      ]
    },
    {
      "cell_type": "code",
      "metadata": {
        "colab": {
          "base_uri": "https://localhost:8080/",
          "height": 1000
        },
        "id": "9CIAlgQZh1j4",
        "outputId": "6214d824-1465-4fdb-8266-8665df461e2e"
      },
      "source": [
        "%matplotlib inline\n",
        "with pyfolio.plotting.plotting_context(font_scale=1.1):\n",
        "    pyfolio.create_full_tear_sheet(returns = DRL_strat,\n",
        "                                   benchmark_rets=dow_strat, set_context=False)"
      ],
      "execution_count": null,
      "outputs": [
        {
          "output_type": "display_data",
          "data": {
            "text/html": [
              "<table border=\"1\" class=\"dataframe\">\n",
              "  <thead>\n",
              "    <tr style=\"text-align: right;\"><th>Start date</th><td colspan=2>2019-01-02</td></tr>\n",
              "    <tr style=\"text-align: right;\"><th>End date</th><td colspan=2>2020-10-22</td></tr>\n",
              "    <tr style=\"text-align: right;\"><th>Total months</th><td colspan=2>21</td></tr>\n",
              "    <tr style=\"text-align: right;\">\n",
              "      <th></th>\n",
              "      <th>Backtest</th>\n",
              "    </tr>\n",
              "  </thead>\n",
              "  <tbody>\n",
              "    <tr>\n",
              "      <th>Annual return</th>\n",
              "      <td>12.111%</td>\n",
              "    </tr>\n",
              "    <tr>\n",
              "      <th>Cumulative returns</th>\n",
              "      <td>23.038%</td>\n",
              "    </tr>\n",
              "    <tr>\n",
              "      <th>Annual volatility</th>\n",
              "      <td>16.357%</td>\n",
              "    </tr>\n",
              "    <tr>\n",
              "      <th>Sharpe ratio</th>\n",
              "      <td>0.78</td>\n",
              "    </tr>\n",
              "    <tr>\n",
              "      <th>Calmar ratio</th>\n",
              "      <td>0.89</td>\n",
              "    </tr>\n",
              "    <tr>\n",
              "      <th>Stability</th>\n",
              "      <td>0.29</td>\n",
              "    </tr>\n",
              "    <tr>\n",
              "      <th>Max drawdown</th>\n",
              "      <td>-13.639%</td>\n",
              "    </tr>\n",
              "    <tr>\n",
              "      <th>Omega ratio</th>\n",
              "      <td>1.18</td>\n",
              "    </tr>\n",
              "    <tr>\n",
              "      <th>Sortino ratio</th>\n",
              "      <td>1.08</td>\n",
              "    </tr>\n",
              "    <tr>\n",
              "      <th>Skew</th>\n",
              "      <td>NaN</td>\n",
              "    </tr>\n",
              "    <tr>\n",
              "      <th>Kurtosis</th>\n",
              "      <td>NaN</td>\n",
              "    </tr>\n",
              "    <tr>\n",
              "      <th>Tail ratio</th>\n",
              "      <td>1.01</td>\n",
              "    </tr>\n",
              "    <tr>\n",
              "      <th>Daily value at risk</th>\n",
              "      <td>-2.01%</td>\n",
              "    </tr>\n",
              "    <tr>\n",
              "      <th>Alpha</th>\n",
              "      <td>0.09</td>\n",
              "    </tr>\n",
              "    <tr>\n",
              "      <th>Beta</th>\n",
              "      <td>0.31</td>\n",
              "    </tr>\n",
              "  </tbody>\n",
              "</table>"
            ],
            "text/plain": [
              "<IPython.core.display.HTML object>"
            ]
          },
          "metadata": {
            "tags": []
          }
        },
        {
          "output_type": "display_data",
          "data": {
            "text/html": [
              "<table border=\"1\" class=\"dataframe\">\n",
              "  <thead>\n",
              "    <tr style=\"text-align: right;\">\n",
              "      <th>Worst drawdown periods</th>\n",
              "      <th>Net drawdown in %</th>\n",
              "      <th>Peak date</th>\n",
              "      <th>Valley date</th>\n",
              "      <th>Recovery date</th>\n",
              "      <th>Duration</th>\n",
              "    </tr>\n",
              "  </thead>\n",
              "  <tbody>\n",
              "    <tr>\n",
              "      <th>0</th>\n",
              "      <td>13.64</td>\n",
              "      <td>2020-01-17</td>\n",
              "      <td>2020-02-28</td>\n",
              "      <td>NaT</td>\n",
              "      <td>NaN</td>\n",
              "    </tr>\n",
              "    <tr>\n",
              "      <th>1</th>\n",
              "      <td>7.71</td>\n",
              "      <td>2019-07-15</td>\n",
              "      <td>2019-08-14</td>\n",
              "      <td>2019-09-06</td>\n",
              "      <td>40</td>\n",
              "    </tr>\n",
              "    <tr>\n",
              "      <th>2</th>\n",
              "      <td>4.68</td>\n",
              "      <td>2019-09-13</td>\n",
              "      <td>2019-10-03</td>\n",
              "      <td>2019-10-17</td>\n",
              "      <td>25</td>\n",
              "    </tr>\n",
              "    <tr>\n",
              "      <th>3</th>\n",
              "      <td>2.77</td>\n",
              "      <td>2019-03-18</td>\n",
              "      <td>2019-03-25</td>\n",
              "      <td>2019-04-12</td>\n",
              "      <td>20</td>\n",
              "    </tr>\n",
              "    <tr>\n",
              "      <th>4</th>\n",
              "      <td>2.45</td>\n",
              "      <td>2019-10-17</td>\n",
              "      <td>2019-10-31</td>\n",
              "      <td>2019-11-13</td>\n",
              "      <td>20</td>\n",
              "    </tr>\n",
              "  </tbody>\n",
              "</table>"
            ],
            "text/plain": [
              "<IPython.core.display.HTML object>"
            ]
          },
          "metadata": {
            "tags": []
          }
        },
        {
          "output_type": "stream",
          "text": [
            "/usr/local/lib/python3.7/dist-packages/pyfolio/tears.py:907: UserWarning: Passed returns do not overlap with anyinteresting times.\n",
            "  'interesting times.', UserWarning)\n"
          ],
          "name": "stderr"
        },
        {
          "output_type": "display_data",
          "data": {
            "image/png": "[encoded data removed]",
            "text/plain": [
              "<Figure size 1008x5184 with 13 Axes>"
            ]
          },
          "metadata": {
            "tags": [],
            "needs_background": "light"
          }
        }
      ]
    },
    {
      "cell_type": "code",
      "metadata": {
        "id": "A6W2J57ch1j9"
      },
      "source": [
        ""
      ],
      "execution_count": null,
      "outputs": []
    }
  ]
}